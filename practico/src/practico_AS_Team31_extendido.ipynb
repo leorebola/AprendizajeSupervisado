{
  "nbformat": 4,
  "nbformat_minor": 0,
  "metadata": {
    "kernelspec": {
      "display_name": "Python 3",
      "language": "python",
      "name": "python3"
    },
    "language_info": {
      "codemirror_mode": {
        "name": "ipython",
        "version": 3
      },
      "file_extension": ".py",
      "mimetype": "text/x-python",
      "name": "python",
      "nbconvert_exporter": "python",
      "pygments_lexer": "ipython3",
      "version": "3.7.6"
    },
    "colab": {
      "name": "practico_AS_Team31.ipynb",
      "provenance": [],
      "collapsed_sections": []
    }
  },
  "cells": [
    {
      "cell_type": "markdown",
      "metadata": {
        "id": "cSBEEbH9qFpb"
      },
      "source": [
        "# Diplodatos Kaggle Competition"
      ]
    },
    {
      "cell_type": "markdown",
      "metadata": {
        "id": "zavaKd44qFpf"
      },
      "source": [
        "We present this peace of code to create the baseline for the competition, and as an example of how to deal with these kind of problems. The main goals are that you:\n",
        "\n",
        "1. Learn\n",
        "1. Try different models and see which one fits the best the given data\n",
        "1. Get a higher score than the given one in the current baseline example\n",
        "1. Try to get the highest score in the class :)"
      ]
    },
    {
      "cell_type": "markdown",
      "metadata": {
        "id": "fCeW82Id3RKb"
      },
      "source": [
        "El objetivo es intentar predecir los tipos de viajes de compras al supermercado realizados por los clientes. Estos tipos están codificados en el dataset original.\n",
        "\n",
        "Se tiene que superar el puntaje del baseline.\n",
        "\n",
        "Para esta competencia, tiene la tarea de clasificar los tipos de viajes de compras en función de los artículos que compraron los clientes. Para dar algunos ejemplos hipotéticos de tipos de viajes: un cliente puede hacer un pequeño viaje diario a cenar, un gran viaje semanal de comestibles, un viaje para comprar regalos para las próximas vacaciones o un viaje de temporada para comprar ropa.\n",
        "\n",
        "Walmart ha categorizado los viajes contenidos en estos datos en 38 tipos distintos utilizando un método propio aplicado a un conjunto extendido de datos. Tiene el desafío de recrear esta categorización / agrupación con un conjunto más limitado de características. Esto podría proporcionar formas nuevas y más sólidas de categorizar viajes.\n",
        "\n",
        "El conjunto de formación (train.csv) contiene una gran cantidad de visitas de clientes con TripType incluido. Debe predecir el TripType para cada visita de un cliente en el conjunto de prueba (test.csv). Cada visita solo puede tener un TripType. No se le proporcionará más información de la que se proporciona en los datos (por ejemplo, lo que representan los TripTypes o más información del producto).\n",
        "\n",
        "**Data fields**\n",
        "\n",
        "- TripType: un ID categórico que representa el tipo de viaje de compras que realizó el cliente. Ésta es la verdad fundamental que está prediciendo. - TripType_999 es una categoría “otra”.\n",
        "- VisitNumber: un ID correspondiente a un solo viaje de un solo cliente\n",
        "- Weekday: el día de la semana del viaje.\n",
        "- Upc: el número UPC del producto comprado\n",
        "- ScanCount: el número del artículo determinado que se compró. Un valor negativo indica una devolución de producto.\n",
        "- DepartmentDescription: una descripción de alto nivel del departamento del artículo\n",
        "- FinelineNumber: una categoría más refinada para cada uno de los productos, creada por Walmart\n",
        "\n",
        "_**TripType** es la columna que debemos predecir. Esa columna no está presente en el conjunto de prueba_\n"
      ]
    },
    {
      "cell_type": "code",
      "metadata": {
        "id": "-tOI05JM2Lu7",
        "outputId": "65dadf9f-f055-4022-9846-6e6cfa38f945",
        "colab": {
          "base_uri": "https://localhost:8080/",
          "height": 292
        }
      },
      "source": [
        "# instalamos category_encoders\n",
        "!pip install category_encoders"
      ],
      "execution_count": null,
      "outputs": [
        {
          "output_type": "stream",
          "text": [
            "Collecting category_encoders\n",
            "\u001b[?25l  Downloading https://files.pythonhosted.org/packages/44/57/fcef41c248701ee62e8325026b90c432adea35555cbc870aff9cfba23727/category_encoders-2.2.2-py2.py3-none-any.whl (80kB)\n",
            "\r\u001b[K     |████                            | 10kB 17.8MB/s eta 0:00:01\r\u001b[K     |████████▏                       | 20kB 5.4MB/s eta 0:00:01\r\u001b[K     |████████████▏                   | 30kB 7.1MB/s eta 0:00:01\r\u001b[K     |████████████████▎               | 40kB 6.9MB/s eta 0:00:01\r\u001b[K     |████████████████████▎           | 51kB 5.9MB/s eta 0:00:01\r\u001b[K     |████████████████████████▍       | 61kB 6.4MB/s eta 0:00:01\r\u001b[K     |████████████████████████████▍   | 71kB 7.0MB/s eta 0:00:01\r\u001b[K     |████████████████████████████████| 81kB 4.2MB/s \n",
            "\u001b[?25hRequirement already satisfied: scipy>=1.0.0 in /usr/local/lib/python3.6/dist-packages (from category_encoders) (1.4.1)\n",
            "Requirement already satisfied: patsy>=0.5.1 in /usr/local/lib/python3.6/dist-packages (from category_encoders) (0.5.1)\n",
            "Requirement already satisfied: statsmodels>=0.9.0 in /usr/local/lib/python3.6/dist-packages (from category_encoders) (0.10.2)\n",
            "Requirement already satisfied: scikit-learn>=0.20.0 in /usr/local/lib/python3.6/dist-packages (from category_encoders) (0.22.2.post1)\n",
            "Requirement already satisfied: numpy>=1.14.0 in /usr/local/lib/python3.6/dist-packages (from category_encoders) (1.18.5)\n",
            "Requirement already satisfied: pandas>=0.21.1 in /usr/local/lib/python3.6/dist-packages (from category_encoders) (1.1.2)\n",
            "Requirement already satisfied: six in /usr/local/lib/python3.6/dist-packages (from patsy>=0.5.1->category_encoders) (1.15.0)\n",
            "Requirement already satisfied: joblib>=0.11 in /usr/local/lib/python3.6/dist-packages (from scikit-learn>=0.20.0->category_encoders) (0.16.0)\n",
            "Requirement already satisfied: pytz>=2017.2 in /usr/local/lib/python3.6/dist-packages (from pandas>=0.21.1->category_encoders) (2018.9)\n",
            "Requirement already satisfied: python-dateutil>=2.7.3 in /usr/local/lib/python3.6/dist-packages (from pandas>=0.21.1->category_encoders) (2.8.1)\n",
            "Installing collected packages: category-encoders\n",
            "Successfully installed category-encoders-2.2.2\n"
          ],
          "name": "stdout"
        }
      ]
    },
    {
      "cell_type": "code",
      "metadata": {
        "id": "TvelMvP6qFpi",
        "outputId": "41ee5afb-688b-4c7c-8063-e9f616d55b6c",
        "colab": {
          "base_uri": "https://localhost:8080/",
          "height": 71
        }
      },
      "source": [
        "# Import the required packages\n",
        "import os\n",
        "\n",
        "import numpy as np\n",
        "import pandas as pd\n",
        "import matplotlib.pyplot as plt\n",
        "from matplotlib.legend_handler import HandlerLine2D\n",
        "\n",
        "from sklearn.model_selection import cross_val_score\n",
        "from sklearn.preprocessing import StandardScaler\n",
        "\n",
        "# Agremamos librerias\n",
        "from xgboost import XGBClassifier\n",
        "from sklearn.model_selection import train_test_split\n",
        "from sklearn.metrics import accuracy_score\n",
        "import category_encoders as ce"
      ],
      "execution_count": null,
      "outputs": [
        {
          "output_type": "stream",
          "text": [
            "/usr/local/lib/python3.6/dist-packages/statsmodels/tools/_testing.py:19: FutureWarning: pandas.util.testing is deprecated. Use the functions in the public API at pandas.testing instead.\n",
            "  import pandas.util.testing as tm\n"
          ],
          "name": "stderr"
        }
      ]
    },
    {
      "cell_type": "markdown",
      "metadata": {
        "id": "u8ghJuNDqFpw"
      },
      "source": [
        "Read the *original* dataset..."
      ]
    },
    {
      "cell_type": "code",
      "metadata": {
        "id": "GtqF6WqJqFpz"
      },
      "source": [
        "URL_TRAIN = 'https://raw.githubusercontent.com/DiploDatos/AprendizajeSupervisado/master/practico/data/train.csv'\n",
        "URL_TEST = 'https://raw.githubusercontent.com/DiploDatos/AprendizajeSupervisado/master/practico/data/test.csv'"
      ],
      "execution_count": null,
      "outputs": []
    },
    {
      "cell_type": "code",
      "metadata": {
        "id": "49k2QJW5qFp8"
      },
      "source": [
        "original_df = pd.read_csv(URL_TRAIN)"
      ],
      "execution_count": null,
      "outputs": []
    },
    {
      "cell_type": "code",
      "metadata": {
        "id": "hFdIVSD-qFqF",
        "outputId": "b4831cf2-50da-44fa-86ed-9e3d3265a50e",
        "colab": {
          "base_uri": "https://localhost:8080/",
          "height": 68
        }
      },
      "source": [
        "original_df.columns"
      ],
      "execution_count": null,
      "outputs": [
        {
          "output_type": "execute_result",
          "data": {
            "text/plain": [
              "Index(['TripType', 'VisitNumber', 'Weekday', 'Upc', 'ScanCount',\n",
              "       'DepartmentDescription', 'FinelineNumber'],\n",
              "      dtype='object')"
            ]
          },
          "metadata": {
            "tags": []
          },
          "execution_count": 7
        }
      ]
    },
    {
      "cell_type": "code",
      "metadata": {
        "id": "G0E1K4-lqFqQ",
        "outputId": "9a943c10-7bd4-48c4-ff3b-4345cc57421e",
        "colab": {
          "base_uri": "https://localhost:8080/",
          "height": 297
        }
      },
      "source": [
        "original_df.describe()"
      ],
      "execution_count": null,
      "outputs": [
        {
          "output_type": "execute_result",
          "data": {
            "text/html": [
              "<div>\n",
              "<style scoped>\n",
              "    .dataframe tbody tr th:only-of-type {\n",
              "        vertical-align: middle;\n",
              "    }\n",
              "\n",
              "    .dataframe tbody tr th {\n",
              "        vertical-align: top;\n",
              "    }\n",
              "\n",
              "    .dataframe thead th {\n",
              "        text-align: right;\n",
              "    }\n",
              "</style>\n",
              "<table border=\"1\" class=\"dataframe\">\n",
              "  <thead>\n",
              "    <tr style=\"text-align: right;\">\n",
              "      <th></th>\n",
              "      <th>TripType</th>\n",
              "      <th>VisitNumber</th>\n",
              "      <th>Upc</th>\n",
              "      <th>ScanCount</th>\n",
              "      <th>FinelineNumber</th>\n",
              "    </tr>\n",
              "  </thead>\n",
              "  <tbody>\n",
              "    <tr>\n",
              "      <th>count</th>\n",
              "      <td>453411.000000</td>\n",
              "      <td>453411.000000</td>\n",
              "      <td>4.505590e+05</td>\n",
              "      <td>453411.000000</td>\n",
              "      <td>450559.000000</td>\n",
              "    </tr>\n",
              "    <tr>\n",
              "      <th>mean</th>\n",
              "      <td>58.027039</td>\n",
              "      <td>95909.846115</td>\n",
              "      <td>3.075243e+10</td>\n",
              "      <td>1.108584</td>\n",
              "      <td>3727.366554</td>\n",
              "    </tr>\n",
              "    <tr>\n",
              "      <th>std</th>\n",
              "      <td>155.973370</td>\n",
              "      <td>55399.801147</td>\n",
              "      <td>9.163940e+10</td>\n",
              "      <td>0.707029</td>\n",
              "      <td>2779.958546</td>\n",
              "    </tr>\n",
              "    <tr>\n",
              "      <th>min</th>\n",
              "      <td>3.000000</td>\n",
              "      <td>5.000000</td>\n",
              "      <td>8.340000e+02</td>\n",
              "      <td>-10.000000</td>\n",
              "      <td>0.000000</td>\n",
              "    </tr>\n",
              "    <tr>\n",
              "      <th>25%</th>\n",
              "      <td>27.000000</td>\n",
              "      <td>49390.000000</td>\n",
              "      <td>3.400004e+09</td>\n",
              "      <td>1.000000</td>\n",
              "      <td>1404.000000</td>\n",
              "    </tr>\n",
              "    <tr>\n",
              "      <th>50%</th>\n",
              "      <td>39.000000</td>\n",
              "      <td>96781.000000</td>\n",
              "      <td>7.056082e+09</td>\n",
              "      <td>1.000000</td>\n",
              "      <td>3352.000000</td>\n",
              "    </tr>\n",
              "    <tr>\n",
              "      <th>75%</th>\n",
              "      <td>40.000000</td>\n",
              "      <td>143930.000000</td>\n",
              "      <td>3.013201e+10</td>\n",
              "      <td>1.000000</td>\n",
              "      <td>5501.000000</td>\n",
              "    </tr>\n",
              "    <tr>\n",
              "      <th>max</th>\n",
              "      <td>999.000000</td>\n",
              "      <td>191347.000000</td>\n",
              "      <td>9.789707e+11</td>\n",
              "      <td>71.000000</td>\n",
              "      <td>9998.000000</td>\n",
              "    </tr>\n",
              "  </tbody>\n",
              "</table>\n",
              "</div>"
            ],
            "text/plain": [
              "            TripType    VisitNumber  ...      ScanCount  FinelineNumber\n",
              "count  453411.000000  453411.000000  ...  453411.000000   450559.000000\n",
              "mean       58.027039   95909.846115  ...       1.108584     3727.366554\n",
              "std       155.973370   55399.801147  ...       0.707029     2779.958546\n",
              "min         3.000000       5.000000  ...     -10.000000        0.000000\n",
              "25%        27.000000   49390.000000  ...       1.000000     1404.000000\n",
              "50%        39.000000   96781.000000  ...       1.000000     3352.000000\n",
              "75%        40.000000  143930.000000  ...       1.000000     5501.000000\n",
              "max       999.000000  191347.000000  ...      71.000000     9998.000000\n",
              "\n",
              "[8 rows x 5 columns]"
            ]
          },
          "metadata": {
            "tags": []
          },
          "execution_count": 9
        }
      ]
    },
    {
      "cell_type": "code",
      "metadata": {
        "id": "PM9_jRluqFqa",
        "outputId": "0ccfab94-707a-4cd7-82bf-51c9f12cbc47",
        "colab": {
          "base_uri": "https://localhost:8080/",
          "height": 204
        }
      },
      "source": [
        "original_df.head()"
      ],
      "execution_count": null,
      "outputs": [
        {
          "output_type": "execute_result",
          "data": {
            "text/html": [
              "<div>\n",
              "<style scoped>\n",
              "    .dataframe tbody tr th:only-of-type {\n",
              "        vertical-align: middle;\n",
              "    }\n",
              "\n",
              "    .dataframe tbody tr th {\n",
              "        vertical-align: top;\n",
              "    }\n",
              "\n",
              "    .dataframe thead th {\n",
              "        text-align: right;\n",
              "    }\n",
              "</style>\n",
              "<table border=\"1\" class=\"dataframe\">\n",
              "  <thead>\n",
              "    <tr style=\"text-align: right;\">\n",
              "      <th></th>\n",
              "      <th>TripType</th>\n",
              "      <th>VisitNumber</th>\n",
              "      <th>Weekday</th>\n",
              "      <th>Upc</th>\n",
              "      <th>ScanCount</th>\n",
              "      <th>DepartmentDescription</th>\n",
              "      <th>FinelineNumber</th>\n",
              "    </tr>\n",
              "  </thead>\n",
              "  <tbody>\n",
              "    <tr>\n",
              "      <th>0</th>\n",
              "      <td>999</td>\n",
              "      <td>5</td>\n",
              "      <td>Friday</td>\n",
              "      <td>6.811315e+10</td>\n",
              "      <td>-1</td>\n",
              "      <td>FINANCIAL SERVICES</td>\n",
              "      <td>1000.0</td>\n",
              "    </tr>\n",
              "    <tr>\n",
              "      <th>1</th>\n",
              "      <td>8</td>\n",
              "      <td>9</td>\n",
              "      <td>Friday</td>\n",
              "      <td>1.070081e+09</td>\n",
              "      <td>1</td>\n",
              "      <td>IMPULSE MERCHANDISE</td>\n",
              "      <td>115.0</td>\n",
              "    </tr>\n",
              "    <tr>\n",
              "      <th>2</th>\n",
              "      <td>8</td>\n",
              "      <td>9</td>\n",
              "      <td>Friday</td>\n",
              "      <td>3.107000e+03</td>\n",
              "      <td>1</td>\n",
              "      <td>PRODUCE</td>\n",
              "      <td>103.0</td>\n",
              "    </tr>\n",
              "    <tr>\n",
              "      <th>3</th>\n",
              "      <td>8</td>\n",
              "      <td>9</td>\n",
              "      <td>Friday</td>\n",
              "      <td>4.011000e+03</td>\n",
              "      <td>1</td>\n",
              "      <td>PRODUCE</td>\n",
              "      <td>5501.0</td>\n",
              "    </tr>\n",
              "    <tr>\n",
              "      <th>4</th>\n",
              "      <td>8</td>\n",
              "      <td>10</td>\n",
              "      <td>Friday</td>\n",
              "      <td>6.414410e+09</td>\n",
              "      <td>1</td>\n",
              "      <td>DSD GROCERY</td>\n",
              "      <td>2008.0</td>\n",
              "    </tr>\n",
              "  </tbody>\n",
              "</table>\n",
              "</div>"
            ],
            "text/plain": [
              "   TripType  VisitNumber  ... DepartmentDescription  FinelineNumber\n",
              "0       999            5  ...    FINANCIAL SERVICES          1000.0\n",
              "1         8            9  ...   IMPULSE MERCHANDISE           115.0\n",
              "2         8            9  ...               PRODUCE           103.0\n",
              "3         8            9  ...               PRODUCE          5501.0\n",
              "4         8           10  ...           DSD GROCERY          2008.0\n",
              "\n",
              "[5 rows x 7 columns]"
            ]
          },
          "metadata": {
            "tags": []
          },
          "execution_count": 10
        }
      ]
    },
    {
      "cell_type": "markdown",
      "metadata": {
        "id": "35fBK7K6qFqg"
      },
      "source": [
        "Looking into the columns values..."
      ]
    },
    {
      "cell_type": "code",
      "metadata": {
        "id": "rfQxWipLqFqj",
        "outputId": "7364369a-6d75-4171-b37f-82029868f748",
        "colab": {
          "base_uri": "https://localhost:8080/",
          "height": 34
        }
      },
      "source": [
        "set(original_df.Weekday)"
      ],
      "execution_count": null,
      "outputs": [
        {
          "output_type": "execute_result",
          "data": {
            "text/plain": [
              "{'Friday', 'Monday', 'Saturday', 'Sunday', 'Thursday', 'Tuesday', 'Wednesday'}"
            ]
          },
          "metadata": {
            "tags": []
          },
          "execution_count": 11
        }
      ]
    },
    {
      "cell_type": "code",
      "metadata": {
        "id": "_tvfzPMcqFqq",
        "outputId": "ab8d4b50-a97c-4432-eb3b-2b75f4fc8b15",
        "colab": {
          "base_uri": "https://localhost:8080/",
          "height": 1000
        }
      },
      "source": [
        "set(original_df.DepartmentDescription)"
      ],
      "execution_count": null,
      "outputs": [
        {
          "output_type": "execute_result",
          "data": {
            "text/plain": [
              "{'1-HR PHOTO',\n",
              " 'ACCESSORIES',\n",
              " 'AUTOMOTIVE',\n",
              " 'BAKERY',\n",
              " 'BATH AND SHOWER',\n",
              " 'BEAUTY',\n",
              " 'BEDDING',\n",
              " 'BOOKS AND MAGAZINES',\n",
              " 'BOYS WEAR',\n",
              " 'BRAS & SHAPEWEAR',\n",
              " 'CAMERAS AND SUPPLIES',\n",
              " 'CANDY, TOBACCO, COOKIES',\n",
              " 'CELEBRATION',\n",
              " 'COMM BREAD',\n",
              " 'CONCEPT STORES',\n",
              " 'COOK AND DINE',\n",
              " 'DAIRY',\n",
              " 'DSD GROCERY',\n",
              " 'ELECTRONICS',\n",
              " 'FABRICS AND CRAFTS',\n",
              " 'FINANCIAL SERVICES',\n",
              " 'FROZEN FOODS',\n",
              " 'FURNITURE',\n",
              " 'GIRLS WEAR, 4-6X  AND 7-14',\n",
              " 'GROCERY DRY GOODS',\n",
              " 'HARDWARE',\n",
              " 'HEALTH AND BEAUTY AIDS',\n",
              " 'HOME DECOR',\n",
              " 'HOME MANAGEMENT',\n",
              " 'HORTICULTURE AND ACCESS',\n",
              " 'HOUSEHOLD CHEMICALS/SUPP',\n",
              " 'HOUSEHOLD PAPER GOODS',\n",
              " 'IMPULSE MERCHANDISE',\n",
              " 'INFANT APPAREL',\n",
              " 'INFANT CONSUMABLE HARDLINES',\n",
              " 'JEWELRY AND SUNGLASSES',\n",
              " 'LADIES SOCKS',\n",
              " 'LADIESWEAR',\n",
              " 'LARGE HOUSEHOLD GOODS',\n",
              " 'LAWN AND GARDEN',\n",
              " 'LIQUOR,WINE,BEER',\n",
              " 'MEAT - FRESH & FROZEN',\n",
              " 'MEDIA AND GAMING',\n",
              " 'MENS WEAR',\n",
              " 'MENSWEAR',\n",
              " 'OFFICE SUPPLIES',\n",
              " 'OPTICAL - FRAMES',\n",
              " 'OPTICAL - LENSES',\n",
              " 'OTHER DEPARTMENTS',\n",
              " 'PAINT AND ACCESSORIES',\n",
              " 'PERSONAL CARE',\n",
              " 'PETS AND SUPPLIES',\n",
              " 'PHARMACY OTC',\n",
              " 'PHARMACY RX',\n",
              " 'PLAYERS AND ELECTRONICS',\n",
              " 'PLUS AND MATERNITY',\n",
              " 'PRE PACKED DELI',\n",
              " 'PRODUCE',\n",
              " 'SEAFOOD',\n",
              " 'SEASONAL',\n",
              " 'SERVICE DELI',\n",
              " 'SHEER HOSIERY',\n",
              " 'SHOES',\n",
              " 'SLEEPWEAR/FOUNDATIONS',\n",
              " 'SPORTING GOODS',\n",
              " 'SWIMWEAR/OUTERWEAR',\n",
              " 'TOYS',\n",
              " 'WIRELESS',\n",
              " nan}"
            ]
          },
          "metadata": {
            "tags": []
          },
          "execution_count": 12
        }
      ]
    },
    {
      "cell_type": "markdown",
      "metadata": {
        "id": "zd9iIWMrqFqw"
      },
      "source": [
        "There are `nan`s in the column, let us find them..."
      ]
    },
    {
      "cell_type": "code",
      "metadata": {
        "id": "q9kRc4AOqFqz",
        "outputId": "a173d39a-1ef7-4922-983d-57dbabfc48ed",
        "colab": {
          "base_uri": "https://localhost:8080/",
          "height": 419
        }
      },
      "source": [
        "original_df[original_df.DepartmentDescription.isna()]"
      ],
      "execution_count": null,
      "outputs": [
        {
          "output_type": "execute_result",
          "data": {
            "text/html": [
              "<div>\n",
              "<style scoped>\n",
              "    .dataframe tbody tr th:only-of-type {\n",
              "        vertical-align: middle;\n",
              "    }\n",
              "\n",
              "    .dataframe tbody tr th {\n",
              "        vertical-align: top;\n",
              "    }\n",
              "\n",
              "    .dataframe thead th {\n",
              "        text-align: right;\n",
              "    }\n",
              "</style>\n",
              "<table border=\"1\" class=\"dataframe\">\n",
              "  <thead>\n",
              "    <tr style=\"text-align: right;\">\n",
              "      <th></th>\n",
              "      <th>TripType</th>\n",
              "      <th>VisitNumber</th>\n",
              "      <th>Weekday</th>\n",
              "      <th>Upc</th>\n",
              "      <th>ScanCount</th>\n",
              "      <th>DepartmentDescription</th>\n",
              "      <th>FinelineNumber</th>\n",
              "    </tr>\n",
              "  </thead>\n",
              "  <tbody>\n",
              "    <tr>\n",
              "      <th>739</th>\n",
              "      <td>999</td>\n",
              "      <td>484</td>\n",
              "      <td>Friday</td>\n",
              "      <td>NaN</td>\n",
              "      <td>-2</td>\n",
              "      <td>NaN</td>\n",
              "      <td>NaN</td>\n",
              "    </tr>\n",
              "    <tr>\n",
              "      <th>740</th>\n",
              "      <td>999</td>\n",
              "      <td>484</td>\n",
              "      <td>Friday</td>\n",
              "      <td>NaN</td>\n",
              "      <td>-2</td>\n",
              "      <td>NaN</td>\n",
              "      <td>NaN</td>\n",
              "    </tr>\n",
              "    <tr>\n",
              "      <th>1292</th>\n",
              "      <td>32</td>\n",
              "      <td>845</td>\n",
              "      <td>Friday</td>\n",
              "      <td>NaN</td>\n",
              "      <td>1</td>\n",
              "      <td>NaN</td>\n",
              "      <td>NaN</td>\n",
              "    </tr>\n",
              "    <tr>\n",
              "      <th>1293</th>\n",
              "      <td>32</td>\n",
              "      <td>845</td>\n",
              "      <td>Friday</td>\n",
              "      <td>NaN</td>\n",
              "      <td>1</td>\n",
              "      <td>NaN</td>\n",
              "      <td>NaN</td>\n",
              "    </tr>\n",
              "    <tr>\n",
              "      <th>1577</th>\n",
              "      <td>40</td>\n",
              "      <td>1004</td>\n",
              "      <td>Friday</td>\n",
              "      <td>NaN</td>\n",
              "      <td>1</td>\n",
              "      <td>NaN</td>\n",
              "      <td>NaN</td>\n",
              "    </tr>\n",
              "    <tr>\n",
              "      <th>...</th>\n",
              "      <td>...</td>\n",
              "      <td>...</td>\n",
              "      <td>...</td>\n",
              "      <td>...</td>\n",
              "      <td>...</td>\n",
              "      <td>...</td>\n",
              "      <td>...</td>\n",
              "    </tr>\n",
              "    <tr>\n",
              "      <th>449840</th>\n",
              "      <td>40</td>\n",
              "      <td>190133</td>\n",
              "      <td>Sunday</td>\n",
              "      <td>NaN</td>\n",
              "      <td>1</td>\n",
              "      <td>NaN</td>\n",
              "      <td>NaN</td>\n",
              "    </tr>\n",
              "    <tr>\n",
              "      <th>450036</th>\n",
              "      <td>999</td>\n",
              "      <td>190182</td>\n",
              "      <td>Sunday</td>\n",
              "      <td>NaN</td>\n",
              "      <td>-1</td>\n",
              "      <td>NaN</td>\n",
              "      <td>NaN</td>\n",
              "    </tr>\n",
              "    <tr>\n",
              "      <th>450163</th>\n",
              "      <td>40</td>\n",
              "      <td>190230</td>\n",
              "      <td>Sunday</td>\n",
              "      <td>NaN</td>\n",
              "      <td>1</td>\n",
              "      <td>NaN</td>\n",
              "      <td>NaN</td>\n",
              "    </tr>\n",
              "    <tr>\n",
              "      <th>450361</th>\n",
              "      <td>39</td>\n",
              "      <td>190309</td>\n",
              "      <td>Sunday</td>\n",
              "      <td>NaN</td>\n",
              "      <td>1</td>\n",
              "      <td>NaN</td>\n",
              "      <td>NaN</td>\n",
              "    </tr>\n",
              "    <tr>\n",
              "      <th>450595</th>\n",
              "      <td>41</td>\n",
              "      <td>190408</td>\n",
              "      <td>Sunday</td>\n",
              "      <td>NaN</td>\n",
              "      <td>1</td>\n",
              "      <td>NaN</td>\n",
              "      <td>NaN</td>\n",
              "    </tr>\n",
              "  </tbody>\n",
              "</table>\n",
              "<p>972 rows × 7 columns</p>\n",
              "</div>"
            ],
            "text/plain": [
              "        TripType  VisitNumber  ... DepartmentDescription  FinelineNumber\n",
              "739          999          484  ...                   NaN             NaN\n",
              "740          999          484  ...                   NaN             NaN\n",
              "1292          32          845  ...                   NaN             NaN\n",
              "1293          32          845  ...                   NaN             NaN\n",
              "1577          40         1004  ...                   NaN             NaN\n",
              "...          ...          ...  ...                   ...             ...\n",
              "449840        40       190133  ...                   NaN             NaN\n",
              "450036       999       190182  ...                   NaN             NaN\n",
              "450163        40       190230  ...                   NaN             NaN\n",
              "450361        39       190309  ...                   NaN             NaN\n",
              "450595        41       190408  ...                   NaN             NaN\n",
              "\n",
              "[972 rows x 7 columns]"
            ]
          },
          "metadata": {
            "tags": []
          },
          "execution_count": 13
        }
      ]
    },
    {
      "cell_type": "markdown",
      "metadata": {
        "hideCode": true,
        "id": "Z-46faKdqFq3"
      },
      "source": [
        "When the description is NaN, then the Upc and FinelineNumber are both NaN?"
      ]
    },
    {
      "cell_type": "code",
      "metadata": {
        "id": "UTsZXGh-qFq5",
        "outputId": "ff37b648-2bc6-41c9-8a55-0067a89719ed",
        "colab": {
          "base_uri": "https://localhost:8080/",
          "height": 34
        }
      },
      "source": [
        "(original_df.DepartmentDescription.isna().sum(),\n",
        " (original_df.DepartmentDescription.isna() & original_df.Upc.isna() & original_df.FinelineNumber.isna()).sum())"
      ],
      "execution_count": null,
      "outputs": [
        {
          "output_type": "execute_result",
          "data": {
            "text/plain": [
              "(972, 972)"
            ]
          },
          "metadata": {
            "tags": []
          },
          "execution_count": 14
        }
      ]
    },
    {
      "cell_type": "code",
      "metadata": {
        "id": "4xwXMLGmqFq_",
        "outputId": "4cf38f9e-64a2-4916-df6b-3e4ab7103422",
        "colab": {
          "base_uri": "https://localhost:8080/",
          "height": 419
        }
      },
      "source": [
        "original_df[original_df.Upc.isna()]"
      ],
      "execution_count": null,
      "outputs": [
        {
          "output_type": "execute_result",
          "data": {
            "text/html": [
              "<div>\n",
              "<style scoped>\n",
              "    .dataframe tbody tr th:only-of-type {\n",
              "        vertical-align: middle;\n",
              "    }\n",
              "\n",
              "    .dataframe tbody tr th {\n",
              "        vertical-align: top;\n",
              "    }\n",
              "\n",
              "    .dataframe thead th {\n",
              "        text-align: right;\n",
              "    }\n",
              "</style>\n",
              "<table border=\"1\" class=\"dataframe\">\n",
              "  <thead>\n",
              "    <tr style=\"text-align: right;\">\n",
              "      <th></th>\n",
              "      <th>TripType</th>\n",
              "      <th>VisitNumber</th>\n",
              "      <th>Weekday</th>\n",
              "      <th>Upc</th>\n",
              "      <th>ScanCount</th>\n",
              "      <th>DepartmentDescription</th>\n",
              "      <th>FinelineNumber</th>\n",
              "    </tr>\n",
              "  </thead>\n",
              "  <tbody>\n",
              "    <tr>\n",
              "      <th>739</th>\n",
              "      <td>999</td>\n",
              "      <td>484</td>\n",
              "      <td>Friday</td>\n",
              "      <td>NaN</td>\n",
              "      <td>-2</td>\n",
              "      <td>NaN</td>\n",
              "      <td>NaN</td>\n",
              "    </tr>\n",
              "    <tr>\n",
              "      <th>740</th>\n",
              "      <td>999</td>\n",
              "      <td>484</td>\n",
              "      <td>Friday</td>\n",
              "      <td>NaN</td>\n",
              "      <td>-2</td>\n",
              "      <td>NaN</td>\n",
              "      <td>NaN</td>\n",
              "    </tr>\n",
              "    <tr>\n",
              "      <th>900</th>\n",
              "      <td>5</td>\n",
              "      <td>585</td>\n",
              "      <td>Friday</td>\n",
              "      <td>NaN</td>\n",
              "      <td>1</td>\n",
              "      <td>PHARMACY RX</td>\n",
              "      <td>NaN</td>\n",
              "    </tr>\n",
              "    <tr>\n",
              "      <th>944</th>\n",
              "      <td>5</td>\n",
              "      <td>619</td>\n",
              "      <td>Friday</td>\n",
              "      <td>NaN</td>\n",
              "      <td>1</td>\n",
              "      <td>PHARMACY RX</td>\n",
              "      <td>NaN</td>\n",
              "    </tr>\n",
              "    <tr>\n",
              "      <th>945</th>\n",
              "      <td>5</td>\n",
              "      <td>619</td>\n",
              "      <td>Friday</td>\n",
              "      <td>NaN</td>\n",
              "      <td>1</td>\n",
              "      <td>PHARMACY RX</td>\n",
              "      <td>NaN</td>\n",
              "    </tr>\n",
              "    <tr>\n",
              "      <th>...</th>\n",
              "      <td>...</td>\n",
              "      <td>...</td>\n",
              "      <td>...</td>\n",
              "      <td>...</td>\n",
              "      <td>...</td>\n",
              "      <td>...</td>\n",
              "      <td>...</td>\n",
              "    </tr>\n",
              "    <tr>\n",
              "      <th>449840</th>\n",
              "      <td>40</td>\n",
              "      <td>190133</td>\n",
              "      <td>Sunday</td>\n",
              "      <td>NaN</td>\n",
              "      <td>1</td>\n",
              "      <td>NaN</td>\n",
              "      <td>NaN</td>\n",
              "    </tr>\n",
              "    <tr>\n",
              "      <th>450036</th>\n",
              "      <td>999</td>\n",
              "      <td>190182</td>\n",
              "      <td>Sunday</td>\n",
              "      <td>NaN</td>\n",
              "      <td>-1</td>\n",
              "      <td>NaN</td>\n",
              "      <td>NaN</td>\n",
              "    </tr>\n",
              "    <tr>\n",
              "      <th>450163</th>\n",
              "      <td>40</td>\n",
              "      <td>190230</td>\n",
              "      <td>Sunday</td>\n",
              "      <td>NaN</td>\n",
              "      <td>1</td>\n",
              "      <td>NaN</td>\n",
              "      <td>NaN</td>\n",
              "    </tr>\n",
              "    <tr>\n",
              "      <th>450361</th>\n",
              "      <td>39</td>\n",
              "      <td>190309</td>\n",
              "      <td>Sunday</td>\n",
              "      <td>NaN</td>\n",
              "      <td>1</td>\n",
              "      <td>NaN</td>\n",
              "      <td>NaN</td>\n",
              "    </tr>\n",
              "    <tr>\n",
              "      <th>450595</th>\n",
              "      <td>41</td>\n",
              "      <td>190408</td>\n",
              "      <td>Sunday</td>\n",
              "      <td>NaN</td>\n",
              "      <td>1</td>\n",
              "      <td>NaN</td>\n",
              "      <td>NaN</td>\n",
              "    </tr>\n",
              "  </tbody>\n",
              "</table>\n",
              "<p>2852 rows × 7 columns</p>\n",
              "</div>"
            ],
            "text/plain": [
              "        TripType  VisitNumber  ... DepartmentDescription  FinelineNumber\n",
              "739          999          484  ...                   NaN             NaN\n",
              "740          999          484  ...                   NaN             NaN\n",
              "900            5          585  ...           PHARMACY RX             NaN\n",
              "944            5          619  ...           PHARMACY RX             NaN\n",
              "945            5          619  ...           PHARMACY RX             NaN\n",
              "...          ...          ...  ...                   ...             ...\n",
              "449840        40       190133  ...                   NaN             NaN\n",
              "450036       999       190182  ...                   NaN             NaN\n",
              "450163        40       190230  ...                   NaN             NaN\n",
              "450361        39       190309  ...                   NaN             NaN\n",
              "450595        41       190408  ...                   NaN             NaN\n",
              "\n",
              "[2852 rows x 7 columns]"
            ]
          },
          "metadata": {
            "tags": []
          },
          "execution_count": 15
        }
      ]
    },
    {
      "cell_type": "markdown",
      "metadata": {
        "id": "eoupBMCLqFrI"
      },
      "source": [
        "But it may be the case that Upc is NaN but not the description..."
      ]
    },
    {
      "cell_type": "code",
      "metadata": {
        "id": "leEnQDd8qFrK",
        "outputId": "0bf29463-e87e-48d6-f7cd-95de3b19a336",
        "colab": {
          "base_uri": "https://localhost:8080/",
          "height": 34
        }
      },
      "source": [
        "(original_df.Upc.isna().sum(),\n",
        " original_df.FinelineNumber.isna().sum(),\n",
        " (original_df.FinelineNumber.isna() & original_df.Upc.isna()).sum())"
      ],
      "execution_count": null,
      "outputs": [
        {
          "output_type": "execute_result",
          "data": {
            "text/plain": [
              "(2852, 2852, 2852)"
            ]
          },
          "metadata": {
            "tags": []
          },
          "execution_count": 16
        }
      ]
    },
    {
      "cell_type": "markdown",
      "metadata": {
        "id": "zIfV9e9QqFrP"
      },
      "source": [
        "Upc and FinelineNumber are both NaN at the same time"
      ]
    },
    {
      "cell_type": "markdown",
      "metadata": {
        "id": "NpzIM4gnqFrQ"
      },
      "source": [
        "Our last step in this analysis is to see how balanced is the data..."
      ]
    },
    {
      "cell_type": "code",
      "metadata": {
        "id": "CkBLC0Z4qFrR"
      },
      "source": [
        "bins = set(original_df.TripType)"
      ],
      "execution_count": null,
      "outputs": []
    },
    {
      "cell_type": "code",
      "metadata": {
        "id": "w695sAunqFrX",
        "outputId": "49cfc000-521a-49b2-a908-136d66df9130",
        "colab": {
          "base_uri": "https://localhost:8080/",
          "height": 291
        }
      },
      "source": [
        "# to count the TripType values, we have to group the visits by VisitNumber\n",
        "original_df.groupby(\"VisitNumber\").TripType.mean().value_counts().plot(kind='bar')"
      ],
      "execution_count": null,
      "outputs": [
        {
          "output_type": "execute_result",
          "data": {
            "text/plain": [
              "<matplotlib.axes._subplots.AxesSubplot at 0x7fd3a3931ac8>"
            ]
          },
          "metadata": {
            "tags": []
          },
          "execution_count": 18
        },
        {
          "output_type": "display_data",
          "data": {
            "image/png": "[encoded data removed]",
            "text/plain": [
              "<Figure size 432x288 with 1 Axes>"
            ]
          },
          "metadata": {
            "tags": [],
            "needs_background": "light"
          }
        }
      ]
    },
    {
      "cell_type": "markdown",
      "metadata": {
        "id": "q0J9WUaxqFrd"
      },
      "source": [
        "**Unbalanced!!!**"
      ]
    },
    {
      "cell_type": "markdown",
      "metadata": {
        "id": "LvNtAe_BqFre"
      },
      "source": [
        "Create a function to load the datasets.\n",
        "\n",
        "**Some important decisions made here**:\n",
        "1. We will use one hot encoding for Weekday and DepartmentDescription. All transformations are applied to the training and testing datasets...\n",
        "1. We are handling NaN's as another category. This may not be the best approach.\n",
        "1. We may have multiple records for one single visit and the goal is to classify all those records the exact same way. Therefore, we will prepare the data in a way that all the information for a visit is in the same record.\n",
        "1. Based on the last bullet, we will count the DepartmentDescription for all items acquired in the same visit.\n",
        "1. We drop the Upc and FinelineNumber to simplify the process. You may use it as they have a lot of information (may be using one-hot encoding for them as well)"
      ]
    },
    {
      "cell_type": "markdown",
      "metadata": {
        "id": "bEov4kgZqFrf"
      },
      "source": [
        "The following operations will be performed in a function. Anyway, we present them here so that we can see them in action:\n",
        "\n",
        "First, we drop the columns. We include TripType as we are going to treat it differently:"
      ]
    },
    {
      "cell_type": "code",
      "metadata": {
        "id": "ZohKhd6wqFrg"
      },
      "source": [
        "df = original_df.drop([\"Upc\", \"FinelineNumber\", \"TripType\"], axis=1)"
      ],
      "execution_count": null,
      "outputs": []
    },
    {
      "cell_type": "code",
      "metadata": {
        "id": "hC38InDoqFrm",
        "outputId": "ceac4c7f-6090-4678-916d-fd8ac851a066",
        "colab": {
          "base_uri": "https://localhost:8080/",
          "height": 419
        }
      },
      "source": [
        "df"
      ],
      "execution_count": null,
      "outputs": [
        {
          "output_type": "execute_result",
          "data": {
            "text/html": [
              "<div>\n",
              "<style scoped>\n",
              "    .dataframe tbody tr th:only-of-type {\n",
              "        vertical-align: middle;\n",
              "    }\n",
              "\n",
              "    .dataframe tbody tr th {\n",
              "        vertical-align: top;\n",
              "    }\n",
              "\n",
              "    .dataframe thead th {\n",
              "        text-align: right;\n",
              "    }\n",
              "</style>\n",
              "<table border=\"1\" class=\"dataframe\">\n",
              "  <thead>\n",
              "    <tr style=\"text-align: right;\">\n",
              "      <th></th>\n",
              "      <th>VisitNumber</th>\n",
              "      <th>Weekday</th>\n",
              "      <th>ScanCount</th>\n",
              "      <th>DepartmentDescription</th>\n",
              "    </tr>\n",
              "  </thead>\n",
              "  <tbody>\n",
              "    <tr>\n",
              "      <th>0</th>\n",
              "      <td>5</td>\n",
              "      <td>Friday</td>\n",
              "      <td>-1</td>\n",
              "      <td>FINANCIAL SERVICES</td>\n",
              "    </tr>\n",
              "    <tr>\n",
              "      <th>1</th>\n",
              "      <td>9</td>\n",
              "      <td>Friday</td>\n",
              "      <td>1</td>\n",
              "      <td>IMPULSE MERCHANDISE</td>\n",
              "    </tr>\n",
              "    <tr>\n",
              "      <th>2</th>\n",
              "      <td>9</td>\n",
              "      <td>Friday</td>\n",
              "      <td>1</td>\n",
              "      <td>PRODUCE</td>\n",
              "    </tr>\n",
              "    <tr>\n",
              "      <th>3</th>\n",
              "      <td>9</td>\n",
              "      <td>Friday</td>\n",
              "      <td>1</td>\n",
              "      <td>PRODUCE</td>\n",
              "    </tr>\n",
              "    <tr>\n",
              "      <th>4</th>\n",
              "      <td>10</td>\n",
              "      <td>Friday</td>\n",
              "      <td>1</td>\n",
              "      <td>DSD GROCERY</td>\n",
              "    </tr>\n",
              "    <tr>\n",
              "      <th>...</th>\n",
              "      <td>...</td>\n",
              "      <td>...</td>\n",
              "      <td>...</td>\n",
              "      <td>...</td>\n",
              "    </tr>\n",
              "    <tr>\n",
              "      <th>453406</th>\n",
              "      <td>191344</td>\n",
              "      <td>Sunday</td>\n",
              "      <td>1</td>\n",
              "      <td>BEAUTY</td>\n",
              "    </tr>\n",
              "    <tr>\n",
              "      <th>453407</th>\n",
              "      <td>191344</td>\n",
              "      <td>Sunday</td>\n",
              "      <td>1</td>\n",
              "      <td>WIRELESS</td>\n",
              "    </tr>\n",
              "    <tr>\n",
              "      <th>453408</th>\n",
              "      <td>191344</td>\n",
              "      <td>Sunday</td>\n",
              "      <td>1</td>\n",
              "      <td>BEAUTY</td>\n",
              "    </tr>\n",
              "    <tr>\n",
              "      <th>453409</th>\n",
              "      <td>191347</td>\n",
              "      <td>Sunday</td>\n",
              "      <td>1</td>\n",
              "      <td>DAIRY</td>\n",
              "    </tr>\n",
              "    <tr>\n",
              "      <th>453410</th>\n",
              "      <td>191347</td>\n",
              "      <td>Sunday</td>\n",
              "      <td>1</td>\n",
              "      <td>GROCERY DRY GOODS</td>\n",
              "    </tr>\n",
              "  </tbody>\n",
              "</table>\n",
              "<p>453411 rows × 4 columns</p>\n",
              "</div>"
            ],
            "text/plain": [
              "        VisitNumber Weekday  ScanCount DepartmentDescription\n",
              "0                 5  Friday         -1    FINANCIAL SERVICES\n",
              "1                 9  Friday          1   IMPULSE MERCHANDISE\n",
              "2                 9  Friday          1               PRODUCE\n",
              "3                 9  Friday          1               PRODUCE\n",
              "4                10  Friday          1           DSD GROCERY\n",
              "...             ...     ...        ...                   ...\n",
              "453406       191344  Sunday          1                BEAUTY\n",
              "453407       191344  Sunday          1              WIRELESS\n",
              "453408       191344  Sunday          1                BEAUTY\n",
              "453409       191347  Sunday          1                 DAIRY\n",
              "453410       191347  Sunday          1     GROCERY DRY GOODS\n",
              "\n",
              "[453411 rows x 4 columns]"
            ]
          },
          "metadata": {
            "tags": []
          },
          "execution_count": 20
        }
      ]
    },
    {
      "cell_type": "markdown",
      "metadata": {
        "id": "KfdrcCA1qFrt"
      },
      "source": [
        "Now, we create the dummy columns"
      ]
    },
    {
      "cell_type": "code",
      "metadata": {
        "id": "zJ7g_D2xqFrt"
      },
      "source": [
        "df = pd.get_dummies(df, columns=[\"DepartmentDescription\"], dummy_na=True)"
      ],
      "execution_count": null,
      "outputs": []
    },
    {
      "cell_type": "code",
      "metadata": {
        "id": "yCEgPrkVqFrx",
        "outputId": "fcd90cf3-6c9e-46b0-b5ef-62a96e664655",
        "colab": {
          "base_uri": "https://localhost:8080/",
          "height": 456
        }
      },
      "source": [
        "df"
      ],
      "execution_count": null,
      "outputs": [
        {
          "output_type": "execute_result",
          "data": {
            "text/html": [
              "<div>\n",
              "<style scoped>\n",
              "    .dataframe tbody tr th:only-of-type {\n",
              "        vertical-align: middle;\n",
              "    }\n",
              "\n",
              "    .dataframe tbody tr th {\n",
              "        vertical-align: top;\n",
              "    }\n",
              "\n",
              "    .dataframe thead th {\n",
              "        text-align: right;\n",
              "    }\n",
              "</style>\n",
              "<table border=\"1\" class=\"dataframe\">\n",
              "  <thead>\n",
              "    <tr style=\"text-align: right;\">\n",
              "      <th></th>\n",
              "      <th>VisitNumber</th>\n",
              "      <th>Weekday</th>\n",
              "      <th>ScanCount</th>\n",
              "      <th>DepartmentDescription_1-HR PHOTO</th>\n",
              "      <th>DepartmentDescription_ACCESSORIES</th>\n",
              "      <th>DepartmentDescription_AUTOMOTIVE</th>\n",
              "      <th>DepartmentDescription_BAKERY</th>\n",
              "      <th>DepartmentDescription_BATH AND SHOWER</th>\n",
              "      <th>DepartmentDescription_BEAUTY</th>\n",
              "      <th>DepartmentDescription_BEDDING</th>\n",
              "      <th>DepartmentDescription_BOOKS AND MAGAZINES</th>\n",
              "      <th>DepartmentDescription_BOYS WEAR</th>\n",
              "      <th>DepartmentDescription_BRAS &amp; SHAPEWEAR</th>\n",
              "      <th>DepartmentDescription_CAMERAS AND SUPPLIES</th>\n",
              "      <th>DepartmentDescription_CANDY, TOBACCO, COOKIES</th>\n",
              "      <th>DepartmentDescription_CELEBRATION</th>\n",
              "      <th>DepartmentDescription_COMM BREAD</th>\n",
              "      <th>DepartmentDescription_CONCEPT STORES</th>\n",
              "      <th>DepartmentDescription_COOK AND DINE</th>\n",
              "      <th>DepartmentDescription_DAIRY</th>\n",
              "      <th>DepartmentDescription_DSD GROCERY</th>\n",
              "      <th>DepartmentDescription_ELECTRONICS</th>\n",
              "      <th>DepartmentDescription_FABRICS AND CRAFTS</th>\n",
              "      <th>DepartmentDescription_FINANCIAL SERVICES</th>\n",
              "      <th>DepartmentDescription_FROZEN FOODS</th>\n",
              "      <th>DepartmentDescription_FURNITURE</th>\n",
              "      <th>DepartmentDescription_GIRLS WEAR, 4-6X  AND 7-14</th>\n",
              "      <th>DepartmentDescription_GROCERY DRY GOODS</th>\n",
              "      <th>DepartmentDescription_HARDWARE</th>\n",
              "      <th>DepartmentDescription_HEALTH AND BEAUTY AIDS</th>\n",
              "      <th>DepartmentDescription_HOME DECOR</th>\n",
              "      <th>DepartmentDescription_HOME MANAGEMENT</th>\n",
              "      <th>DepartmentDescription_HORTICULTURE AND ACCESS</th>\n",
              "      <th>DepartmentDescription_HOUSEHOLD CHEMICALS/SUPP</th>\n",
              "      <th>DepartmentDescription_HOUSEHOLD PAPER GOODS</th>\n",
              "      <th>DepartmentDescription_IMPULSE MERCHANDISE</th>\n",
              "      <th>DepartmentDescription_INFANT APPAREL</th>\n",
              "      <th>DepartmentDescription_INFANT CONSUMABLE HARDLINES</th>\n",
              "      <th>DepartmentDescription_JEWELRY AND SUNGLASSES</th>\n",
              "      <th>DepartmentDescription_LADIES SOCKS</th>\n",
              "      <th>DepartmentDescription_LADIESWEAR</th>\n",
              "      <th>DepartmentDescription_LARGE HOUSEHOLD GOODS</th>\n",
              "      <th>DepartmentDescription_LAWN AND GARDEN</th>\n",
              "      <th>DepartmentDescription_LIQUOR,WINE,BEER</th>\n",
              "      <th>DepartmentDescription_MEAT - FRESH &amp; FROZEN</th>\n",
              "      <th>DepartmentDescription_MEDIA AND GAMING</th>\n",
              "      <th>DepartmentDescription_MENS WEAR</th>\n",
              "      <th>DepartmentDescription_MENSWEAR</th>\n",
              "      <th>DepartmentDescription_OFFICE SUPPLIES</th>\n",
              "      <th>DepartmentDescription_OPTICAL - FRAMES</th>\n",
              "      <th>DepartmentDescription_OPTICAL - LENSES</th>\n",
              "      <th>DepartmentDescription_OTHER DEPARTMENTS</th>\n",
              "      <th>DepartmentDescription_PAINT AND ACCESSORIES</th>\n",
              "      <th>DepartmentDescription_PERSONAL CARE</th>\n",
              "      <th>DepartmentDescription_PETS AND SUPPLIES</th>\n",
              "      <th>DepartmentDescription_PHARMACY OTC</th>\n",
              "      <th>DepartmentDescription_PHARMACY RX</th>\n",
              "      <th>DepartmentDescription_PLAYERS AND ELECTRONICS</th>\n",
              "      <th>DepartmentDescription_PLUS AND MATERNITY</th>\n",
              "      <th>DepartmentDescription_PRE PACKED DELI</th>\n",
              "      <th>DepartmentDescription_PRODUCE</th>\n",
              "      <th>DepartmentDescription_SEAFOOD</th>\n",
              "      <th>DepartmentDescription_SEASONAL</th>\n",
              "      <th>DepartmentDescription_SERVICE DELI</th>\n",
              "      <th>DepartmentDescription_SHEER HOSIERY</th>\n",
              "      <th>DepartmentDescription_SHOES</th>\n",
              "      <th>DepartmentDescription_SLEEPWEAR/FOUNDATIONS</th>\n",
              "      <th>DepartmentDescription_SPORTING GOODS</th>\n",
              "      <th>DepartmentDescription_SWIMWEAR/OUTERWEAR</th>\n",
              "      <th>DepartmentDescription_TOYS</th>\n",
              "      <th>DepartmentDescription_WIRELESS</th>\n",
              "      <th>DepartmentDescription_nan</th>\n",
              "    </tr>\n",
              "  </thead>\n",
              "  <tbody>\n",
              "    <tr>\n",
              "      <th>0</th>\n",
              "      <td>5</td>\n",
              "      <td>Friday</td>\n",
              "      <td>-1</td>\n",
              "      <td>0</td>\n",
              "      <td>0</td>\n",
              "      <td>0</td>\n",
              "      <td>0</td>\n",
              "      <td>0</td>\n",
              "      <td>0</td>\n",
              "      <td>0</td>\n",
              "      <td>0</td>\n",
              "      <td>0</td>\n",
              "      <td>0</td>\n",
              "      <td>0</td>\n",
              "      <td>0</td>\n",
              "      <td>0</td>\n",
              "      <td>0</td>\n",
              "      <td>0</td>\n",
              "      <td>0</td>\n",
              "      <td>0</td>\n",
              "      <td>0</td>\n",
              "      <td>0</td>\n",
              "      <td>0</td>\n",
              "      <td>1</td>\n",
              "      <td>0</td>\n",
              "      <td>0</td>\n",
              "      <td>0</td>\n",
              "      <td>0</td>\n",
              "      <td>0</td>\n",
              "      <td>0</td>\n",
              "      <td>0</td>\n",
              "      <td>0</td>\n",
              "      <td>0</td>\n",
              "      <td>0</td>\n",
              "      <td>0</td>\n",
              "      <td>0</td>\n",
              "      <td>0</td>\n",
              "      <td>0</td>\n",
              "      <td>0</td>\n",
              "      <td>0</td>\n",
              "      <td>0</td>\n",
              "      <td>0</td>\n",
              "      <td>0</td>\n",
              "      <td>0</td>\n",
              "      <td>0</td>\n",
              "      <td>0</td>\n",
              "      <td>0</td>\n",
              "      <td>0</td>\n",
              "      <td>0</td>\n",
              "      <td>0</td>\n",
              "      <td>0</td>\n",
              "      <td>0</td>\n",
              "      <td>0</td>\n",
              "      <td>0</td>\n",
              "      <td>0</td>\n",
              "      <td>0</td>\n",
              "      <td>0</td>\n",
              "      <td>0</td>\n",
              "      <td>0</td>\n",
              "      <td>0</td>\n",
              "      <td>0</td>\n",
              "      <td>0</td>\n",
              "      <td>0</td>\n",
              "      <td>0</td>\n",
              "      <td>0</td>\n",
              "      <td>0</td>\n",
              "      <td>0</td>\n",
              "      <td>0</td>\n",
              "      <td>0</td>\n",
              "      <td>0</td>\n",
              "      <td>0</td>\n",
              "      <td>0</td>\n",
              "    </tr>\n",
              "    <tr>\n",
              "      <th>1</th>\n",
              "      <td>9</td>\n",
              "      <td>Friday</td>\n",
              "      <td>1</td>\n",
              "      <td>0</td>\n",
              "      <td>0</td>\n",
              "      <td>0</td>\n",
              "      <td>0</td>\n",
              "      <td>0</td>\n",
              "      <td>0</td>\n",
              "      <td>0</td>\n",
              "      <td>0</td>\n",
              "      <td>0</td>\n",
              "      <td>0</td>\n",
              "      <td>0</td>\n",
              "      <td>0</td>\n",
              "      <td>0</td>\n",
              "      <td>0</td>\n",
              "      <td>0</td>\n",
              "      <td>0</td>\n",
              "      <td>0</td>\n",
              "      <td>0</td>\n",
              "      <td>0</td>\n",
              "      <td>0</td>\n",
              "      <td>0</td>\n",
              "      <td>0</td>\n",
              "      <td>0</td>\n",
              "      <td>0</td>\n",
              "      <td>0</td>\n",
              "      <td>0</td>\n",
              "      <td>0</td>\n",
              "      <td>0</td>\n",
              "      <td>0</td>\n",
              "      <td>0</td>\n",
              "      <td>0</td>\n",
              "      <td>0</td>\n",
              "      <td>1</td>\n",
              "      <td>0</td>\n",
              "      <td>0</td>\n",
              "      <td>0</td>\n",
              "      <td>0</td>\n",
              "      <td>0</td>\n",
              "      <td>0</td>\n",
              "      <td>0</td>\n",
              "      <td>0</td>\n",
              "      <td>0</td>\n",
              "      <td>0</td>\n",
              "      <td>0</td>\n",
              "      <td>0</td>\n",
              "      <td>0</td>\n",
              "      <td>0</td>\n",
              "      <td>0</td>\n",
              "      <td>0</td>\n",
              "      <td>0</td>\n",
              "      <td>0</td>\n",
              "      <td>0</td>\n",
              "      <td>0</td>\n",
              "      <td>0</td>\n",
              "      <td>0</td>\n",
              "      <td>0</td>\n",
              "      <td>0</td>\n",
              "      <td>0</td>\n",
              "      <td>0</td>\n",
              "      <td>0</td>\n",
              "      <td>0</td>\n",
              "      <td>0</td>\n",
              "      <td>0</td>\n",
              "      <td>0</td>\n",
              "      <td>0</td>\n",
              "      <td>0</td>\n",
              "      <td>0</td>\n",
              "      <td>0</td>\n",
              "      <td>0</td>\n",
              "    </tr>\n",
              "    <tr>\n",
              "      <th>2</th>\n",
              "      <td>9</td>\n",
              "      <td>Friday</td>\n",
              "      <td>1</td>\n",
              "      <td>0</td>\n",
              "      <td>0</td>\n",
              "      <td>0</td>\n",
              "      <td>0</td>\n",
              "      <td>0</td>\n",
              "      <td>0</td>\n",
              "      <td>0</td>\n",
              "      <td>0</td>\n",
              "      <td>0</td>\n",
              "      <td>0</td>\n",
              "      <td>0</td>\n",
              "      <td>0</td>\n",
              "      <td>0</td>\n",
              "      <td>0</td>\n",
              "      <td>0</td>\n",
              "      <td>0</td>\n",
              "      <td>0</td>\n",
              "      <td>0</td>\n",
              "      <td>0</td>\n",
              "      <td>0</td>\n",
              "      <td>0</td>\n",
              "      <td>0</td>\n",
              "      <td>0</td>\n",
              "      <td>0</td>\n",
              "      <td>0</td>\n",
              "      <td>0</td>\n",
              "      <td>0</td>\n",
              "      <td>0</td>\n",
              "      <td>0</td>\n",
              "      <td>0</td>\n",
              "      <td>0</td>\n",
              "      <td>0</td>\n",
              "      <td>0</td>\n",
              "      <td>0</td>\n",
              "      <td>0</td>\n",
              "      <td>0</td>\n",
              "      <td>0</td>\n",
              "      <td>0</td>\n",
              "      <td>0</td>\n",
              "      <td>0</td>\n",
              "      <td>0</td>\n",
              "      <td>0</td>\n",
              "      <td>0</td>\n",
              "      <td>0</td>\n",
              "      <td>0</td>\n",
              "      <td>0</td>\n",
              "      <td>0</td>\n",
              "      <td>0</td>\n",
              "      <td>0</td>\n",
              "      <td>0</td>\n",
              "      <td>0</td>\n",
              "      <td>0</td>\n",
              "      <td>0</td>\n",
              "      <td>0</td>\n",
              "      <td>0</td>\n",
              "      <td>0</td>\n",
              "      <td>0</td>\n",
              "      <td>1</td>\n",
              "      <td>0</td>\n",
              "      <td>0</td>\n",
              "      <td>0</td>\n",
              "      <td>0</td>\n",
              "      <td>0</td>\n",
              "      <td>0</td>\n",
              "      <td>0</td>\n",
              "      <td>0</td>\n",
              "      <td>0</td>\n",
              "      <td>0</td>\n",
              "      <td>0</td>\n",
              "    </tr>\n",
              "    <tr>\n",
              "      <th>3</th>\n",
              "      <td>9</td>\n",
              "      <td>Friday</td>\n",
              "      <td>1</td>\n",
              "      <td>0</td>\n",
              "      <td>0</td>\n",
              "      <td>0</td>\n",
              "      <td>0</td>\n",
              "      <td>0</td>\n",
              "      <td>0</td>\n",
              "      <td>0</td>\n",
              "      <td>0</td>\n",
              "      <td>0</td>\n",
              "      <td>0</td>\n",
              "      <td>0</td>\n",
              "      <td>0</td>\n",
              "      <td>0</td>\n",
              "      <td>0</td>\n",
              "      <td>0</td>\n",
              "      <td>0</td>\n",
              "      <td>0</td>\n",
              "      <td>0</td>\n",
              "      <td>0</td>\n",
              "      <td>0</td>\n",
              "      <td>0</td>\n",
              "      <td>0</td>\n",
              "      <td>0</td>\n",
              "      <td>0</td>\n",
              "      <td>0</td>\n",
              "      <td>0</td>\n",
              "      <td>0</td>\n",
              "      <td>0</td>\n",
              "      <td>0</td>\n",
              "      <td>0</td>\n",
              "      <td>0</td>\n",
              "      <td>0</td>\n",
              "      <td>0</td>\n",
              "      <td>0</td>\n",
              "      <td>0</td>\n",
              "      <td>0</td>\n",
              "      <td>0</td>\n",
              "      <td>0</td>\n",
              "      <td>0</td>\n",
              "      <td>0</td>\n",
              "      <td>0</td>\n",
              "      <td>0</td>\n",
              "      <td>0</td>\n",
              "      <td>0</td>\n",
              "      <td>0</td>\n",
              "      <td>0</td>\n",
              "      <td>0</td>\n",
              "      <td>0</td>\n",
              "      <td>0</td>\n",
              "      <td>0</td>\n",
              "      <td>0</td>\n",
              "      <td>0</td>\n",
              "      <td>0</td>\n",
              "      <td>0</td>\n",
              "      <td>0</td>\n",
              "      <td>0</td>\n",
              "      <td>0</td>\n",
              "      <td>1</td>\n",
              "      <td>0</td>\n",
              "      <td>0</td>\n",
              "      <td>0</td>\n",
              "      <td>0</td>\n",
              "      <td>0</td>\n",
              "      <td>0</td>\n",
              "      <td>0</td>\n",
              "      <td>0</td>\n",
              "      <td>0</td>\n",
              "      <td>0</td>\n",
              "      <td>0</td>\n",
              "    </tr>\n",
              "    <tr>\n",
              "      <th>4</th>\n",
              "      <td>10</td>\n",
              "      <td>Friday</td>\n",
              "      <td>1</td>\n",
              "      <td>0</td>\n",
              "      <td>0</td>\n",
              "      <td>0</td>\n",
              "      <td>0</td>\n",
              "      <td>0</td>\n",
              "      <td>0</td>\n",
              "      <td>0</td>\n",
              "      <td>0</td>\n",
              "      <td>0</td>\n",
              "      <td>0</td>\n",
              "      <td>0</td>\n",
              "      <td>0</td>\n",
              "      <td>0</td>\n",
              "      <td>0</td>\n",
              "      <td>0</td>\n",
              "      <td>0</td>\n",
              "      <td>0</td>\n",
              "      <td>1</td>\n",
              "      <td>0</td>\n",
              "      <td>0</td>\n",
              "      <td>0</td>\n",
              "      <td>0</td>\n",
              "      <td>0</td>\n",
              "      <td>0</td>\n",
              "      <td>0</td>\n",
              "      <td>0</td>\n",
              "      <td>0</td>\n",
              "      <td>0</td>\n",
              "      <td>0</td>\n",
              "      <td>0</td>\n",
              "      <td>0</td>\n",
              "      <td>0</td>\n",
              "      <td>0</td>\n",
              "      <td>0</td>\n",
              "      <td>0</td>\n",
              "      <td>0</td>\n",
              "      <td>0</td>\n",
              "      <td>0</td>\n",
              "      <td>0</td>\n",
              "      <td>0</td>\n",
              "      <td>0</td>\n",
              "      <td>0</td>\n",
              "      <td>0</td>\n",
              "      <td>0</td>\n",
              "      <td>0</td>\n",
              "      <td>0</td>\n",
              "      <td>0</td>\n",
              "      <td>0</td>\n",
              "      <td>0</td>\n",
              "      <td>0</td>\n",
              "      <td>0</td>\n",
              "      <td>0</td>\n",
              "      <td>0</td>\n",
              "      <td>0</td>\n",
              "      <td>0</td>\n",
              "      <td>0</td>\n",
              "      <td>0</td>\n",
              "      <td>0</td>\n",
              "      <td>0</td>\n",
              "      <td>0</td>\n",
              "      <td>0</td>\n",
              "      <td>0</td>\n",
              "      <td>0</td>\n",
              "      <td>0</td>\n",
              "      <td>0</td>\n",
              "      <td>0</td>\n",
              "      <td>0</td>\n",
              "      <td>0</td>\n",
              "      <td>0</td>\n",
              "    </tr>\n",
              "    <tr>\n",
              "      <th>...</th>\n",
              "      <td>...</td>\n",
              "      <td>...</td>\n",
              "      <td>...</td>\n",
              "      <td>...</td>\n",
              "      <td>...</td>\n",
              "      <td>...</td>\n",
              "      <td>...</td>\n",
              "      <td>...</td>\n",
              "      <td>...</td>\n",
              "      <td>...</td>\n",
              "      <td>...</td>\n",
              "      <td>...</td>\n",
              "      <td>...</td>\n",
              "      <td>...</td>\n",
              "      <td>...</td>\n",
              "      <td>...</td>\n",
              "      <td>...</td>\n",
              "      <td>...</td>\n",
              "      <td>...</td>\n",
              "      <td>...</td>\n",
              "      <td>...</td>\n",
              "      <td>...</td>\n",
              "      <td>...</td>\n",
              "      <td>...</td>\n",
              "      <td>...</td>\n",
              "      <td>...</td>\n",
              "      <td>...</td>\n",
              "      <td>...</td>\n",
              "      <td>...</td>\n",
              "      <td>...</td>\n",
              "      <td>...</td>\n",
              "      <td>...</td>\n",
              "      <td>...</td>\n",
              "      <td>...</td>\n",
              "      <td>...</td>\n",
              "      <td>...</td>\n",
              "      <td>...</td>\n",
              "      <td>...</td>\n",
              "      <td>...</td>\n",
              "      <td>...</td>\n",
              "      <td>...</td>\n",
              "      <td>...</td>\n",
              "      <td>...</td>\n",
              "      <td>...</td>\n",
              "      <td>...</td>\n",
              "      <td>...</td>\n",
              "      <td>...</td>\n",
              "      <td>...</td>\n",
              "      <td>...</td>\n",
              "      <td>...</td>\n",
              "      <td>...</td>\n",
              "      <td>...</td>\n",
              "      <td>...</td>\n",
              "      <td>...</td>\n",
              "      <td>...</td>\n",
              "      <td>...</td>\n",
              "      <td>...</td>\n",
              "      <td>...</td>\n",
              "      <td>...</td>\n",
              "      <td>...</td>\n",
              "      <td>...</td>\n",
              "      <td>...</td>\n",
              "      <td>...</td>\n",
              "      <td>...</td>\n",
              "      <td>...</td>\n",
              "      <td>...</td>\n",
              "      <td>...</td>\n",
              "      <td>...</td>\n",
              "      <td>...</td>\n",
              "      <td>...</td>\n",
              "      <td>...</td>\n",
              "      <td>...</td>\n",
              "    </tr>\n",
              "    <tr>\n",
              "      <th>453406</th>\n",
              "      <td>191344</td>\n",
              "      <td>Sunday</td>\n",
              "      <td>1</td>\n",
              "      <td>0</td>\n",
              "      <td>0</td>\n",
              "      <td>0</td>\n",
              "      <td>0</td>\n",
              "      <td>0</td>\n",
              "      <td>1</td>\n",
              "      <td>0</td>\n",
              "      <td>0</td>\n",
              "      <td>0</td>\n",
              "      <td>0</td>\n",
              "      <td>0</td>\n",
              "      <td>0</td>\n",
              "      <td>0</td>\n",
              "      <td>0</td>\n",
              "      <td>0</td>\n",
              "      <td>0</td>\n",
              "      <td>0</td>\n",
              "      <td>0</td>\n",
              "      <td>0</td>\n",
              "      <td>0</td>\n",
              "      <td>0</td>\n",
              "      <td>0</td>\n",
              "      <td>0</td>\n",
              "      <td>0</td>\n",
              "      <td>0</td>\n",
              "      <td>0</td>\n",
              "      <td>0</td>\n",
              "      <td>0</td>\n",
              "      <td>0</td>\n",
              "      <td>0</td>\n",
              "      <td>0</td>\n",
              "      <td>0</td>\n",
              "      <td>0</td>\n",
              "      <td>0</td>\n",
              "      <td>0</td>\n",
              "      <td>0</td>\n",
              "      <td>0</td>\n",
              "      <td>0</td>\n",
              "      <td>0</td>\n",
              "      <td>0</td>\n",
              "      <td>0</td>\n",
              "      <td>0</td>\n",
              "      <td>0</td>\n",
              "      <td>0</td>\n",
              "      <td>0</td>\n",
              "      <td>0</td>\n",
              "      <td>0</td>\n",
              "      <td>0</td>\n",
              "      <td>0</td>\n",
              "      <td>0</td>\n",
              "      <td>0</td>\n",
              "      <td>0</td>\n",
              "      <td>0</td>\n",
              "      <td>0</td>\n",
              "      <td>0</td>\n",
              "      <td>0</td>\n",
              "      <td>0</td>\n",
              "      <td>0</td>\n",
              "      <td>0</td>\n",
              "      <td>0</td>\n",
              "      <td>0</td>\n",
              "      <td>0</td>\n",
              "      <td>0</td>\n",
              "      <td>0</td>\n",
              "      <td>0</td>\n",
              "      <td>0</td>\n",
              "      <td>0</td>\n",
              "      <td>0</td>\n",
              "      <td>0</td>\n",
              "    </tr>\n",
              "    <tr>\n",
              "      <th>453407</th>\n",
              "      <td>191344</td>\n",
              "      <td>Sunday</td>\n",
              "      <td>1</td>\n",
              "      <td>0</td>\n",
              "      <td>0</td>\n",
              "      <td>0</td>\n",
              "      <td>0</td>\n",
              "      <td>0</td>\n",
              "      <td>0</td>\n",
              "      <td>0</td>\n",
              "      <td>0</td>\n",
              "      <td>0</td>\n",
              "      <td>0</td>\n",
              "      <td>0</td>\n",
              "      <td>0</td>\n",
              "      <td>0</td>\n",
              "      <td>0</td>\n",
              "      <td>0</td>\n",
              "      <td>0</td>\n",
              "      <td>0</td>\n",
              "      <td>0</td>\n",
              "      <td>0</td>\n",
              "      <td>0</td>\n",
              "      <td>0</td>\n",
              "      <td>0</td>\n",
              "      <td>0</td>\n",
              "      <td>0</td>\n",
              "      <td>0</td>\n",
              "      <td>0</td>\n",
              "      <td>0</td>\n",
              "      <td>0</td>\n",
              "      <td>0</td>\n",
              "      <td>0</td>\n",
              "      <td>0</td>\n",
              "      <td>0</td>\n",
              "      <td>0</td>\n",
              "      <td>0</td>\n",
              "      <td>0</td>\n",
              "      <td>0</td>\n",
              "      <td>0</td>\n",
              "      <td>0</td>\n",
              "      <td>0</td>\n",
              "      <td>0</td>\n",
              "      <td>0</td>\n",
              "      <td>0</td>\n",
              "      <td>0</td>\n",
              "      <td>0</td>\n",
              "      <td>0</td>\n",
              "      <td>0</td>\n",
              "      <td>0</td>\n",
              "      <td>0</td>\n",
              "      <td>0</td>\n",
              "      <td>0</td>\n",
              "      <td>0</td>\n",
              "      <td>0</td>\n",
              "      <td>0</td>\n",
              "      <td>0</td>\n",
              "      <td>0</td>\n",
              "      <td>0</td>\n",
              "      <td>0</td>\n",
              "      <td>0</td>\n",
              "      <td>0</td>\n",
              "      <td>0</td>\n",
              "      <td>0</td>\n",
              "      <td>0</td>\n",
              "      <td>0</td>\n",
              "      <td>0</td>\n",
              "      <td>0</td>\n",
              "      <td>0</td>\n",
              "      <td>0</td>\n",
              "      <td>1</td>\n",
              "      <td>0</td>\n",
              "    </tr>\n",
              "    <tr>\n",
              "      <th>453408</th>\n",
              "      <td>191344</td>\n",
              "      <td>Sunday</td>\n",
              "      <td>1</td>\n",
              "      <td>0</td>\n",
              "      <td>0</td>\n",
              "      <td>0</td>\n",
              "      <td>0</td>\n",
              "      <td>0</td>\n",
              "      <td>1</td>\n",
              "      <td>0</td>\n",
              "      <td>0</td>\n",
              "      <td>0</td>\n",
              "      <td>0</td>\n",
              "      <td>0</td>\n",
              "      <td>0</td>\n",
              "      <td>0</td>\n",
              "      <td>0</td>\n",
              "      <td>0</td>\n",
              "      <td>0</td>\n",
              "      <td>0</td>\n",
              "      <td>0</td>\n",
              "      <td>0</td>\n",
              "      <td>0</td>\n",
              "      <td>0</td>\n",
              "      <td>0</td>\n",
              "      <td>0</td>\n",
              "      <td>0</td>\n",
              "      <td>0</td>\n",
              "      <td>0</td>\n",
              "      <td>0</td>\n",
              "      <td>0</td>\n",
              "      <td>0</td>\n",
              "      <td>0</td>\n",
              "      <td>0</td>\n",
              "      <td>0</td>\n",
              "      <td>0</td>\n",
              "      <td>0</td>\n",
              "      <td>0</td>\n",
              "      <td>0</td>\n",
              "      <td>0</td>\n",
              "      <td>0</td>\n",
              "      <td>0</td>\n",
              "      <td>0</td>\n",
              "      <td>0</td>\n",
              "      <td>0</td>\n",
              "      <td>0</td>\n",
              "      <td>0</td>\n",
              "      <td>0</td>\n",
              "      <td>0</td>\n",
              "      <td>0</td>\n",
              "      <td>0</td>\n",
              "      <td>0</td>\n",
              "      <td>0</td>\n",
              "      <td>0</td>\n",
              "      <td>0</td>\n",
              "      <td>0</td>\n",
              "      <td>0</td>\n",
              "      <td>0</td>\n",
              "      <td>0</td>\n",
              "      <td>0</td>\n",
              "      <td>0</td>\n",
              "      <td>0</td>\n",
              "      <td>0</td>\n",
              "      <td>0</td>\n",
              "      <td>0</td>\n",
              "      <td>0</td>\n",
              "      <td>0</td>\n",
              "      <td>0</td>\n",
              "      <td>0</td>\n",
              "      <td>0</td>\n",
              "      <td>0</td>\n",
              "      <td>0</td>\n",
              "    </tr>\n",
              "    <tr>\n",
              "      <th>453409</th>\n",
              "      <td>191347</td>\n",
              "      <td>Sunday</td>\n",
              "      <td>1</td>\n",
              "      <td>0</td>\n",
              "      <td>0</td>\n",
              "      <td>0</td>\n",
              "      <td>0</td>\n",
              "      <td>0</td>\n",
              "      <td>0</td>\n",
              "      <td>0</td>\n",
              "      <td>0</td>\n",
              "      <td>0</td>\n",
              "      <td>0</td>\n",
              "      <td>0</td>\n",
              "      <td>0</td>\n",
              "      <td>0</td>\n",
              "      <td>0</td>\n",
              "      <td>0</td>\n",
              "      <td>0</td>\n",
              "      <td>1</td>\n",
              "      <td>0</td>\n",
              "      <td>0</td>\n",
              "      <td>0</td>\n",
              "      <td>0</td>\n",
              "      <td>0</td>\n",
              "      <td>0</td>\n",
              "      <td>0</td>\n",
              "      <td>0</td>\n",
              "      <td>0</td>\n",
              "      <td>0</td>\n",
              "      <td>0</td>\n",
              "      <td>0</td>\n",
              "      <td>0</td>\n",
              "      <td>0</td>\n",
              "      <td>0</td>\n",
              "      <td>0</td>\n",
              "      <td>0</td>\n",
              "      <td>0</td>\n",
              "      <td>0</td>\n",
              "      <td>0</td>\n",
              "      <td>0</td>\n",
              "      <td>0</td>\n",
              "      <td>0</td>\n",
              "      <td>0</td>\n",
              "      <td>0</td>\n",
              "      <td>0</td>\n",
              "      <td>0</td>\n",
              "      <td>0</td>\n",
              "      <td>0</td>\n",
              "      <td>0</td>\n",
              "      <td>0</td>\n",
              "      <td>0</td>\n",
              "      <td>0</td>\n",
              "      <td>0</td>\n",
              "      <td>0</td>\n",
              "      <td>0</td>\n",
              "      <td>0</td>\n",
              "      <td>0</td>\n",
              "      <td>0</td>\n",
              "      <td>0</td>\n",
              "      <td>0</td>\n",
              "      <td>0</td>\n",
              "      <td>0</td>\n",
              "      <td>0</td>\n",
              "      <td>0</td>\n",
              "      <td>0</td>\n",
              "      <td>0</td>\n",
              "      <td>0</td>\n",
              "      <td>0</td>\n",
              "      <td>0</td>\n",
              "      <td>0</td>\n",
              "      <td>0</td>\n",
              "    </tr>\n",
              "    <tr>\n",
              "      <th>453410</th>\n",
              "      <td>191347</td>\n",
              "      <td>Sunday</td>\n",
              "      <td>1</td>\n",
              "      <td>0</td>\n",
              "      <td>0</td>\n",
              "      <td>0</td>\n",
              "      <td>0</td>\n",
              "      <td>0</td>\n",
              "      <td>0</td>\n",
              "      <td>0</td>\n",
              "      <td>0</td>\n",
              "      <td>0</td>\n",
              "      <td>0</td>\n",
              "      <td>0</td>\n",
              "      <td>0</td>\n",
              "      <td>0</td>\n",
              "      <td>0</td>\n",
              "      <td>0</td>\n",
              "      <td>0</td>\n",
              "      <td>0</td>\n",
              "      <td>0</td>\n",
              "      <td>0</td>\n",
              "      <td>0</td>\n",
              "      <td>0</td>\n",
              "      <td>0</td>\n",
              "      <td>0</td>\n",
              "      <td>0</td>\n",
              "      <td>1</td>\n",
              "      <td>0</td>\n",
              "      <td>0</td>\n",
              "      <td>0</td>\n",
              "      <td>0</td>\n",
              "      <td>0</td>\n",
              "      <td>0</td>\n",
              "      <td>0</td>\n",
              "      <td>0</td>\n",
              "      <td>0</td>\n",
              "      <td>0</td>\n",
              "      <td>0</td>\n",
              "      <td>0</td>\n",
              "      <td>0</td>\n",
              "      <td>0</td>\n",
              "      <td>0</td>\n",
              "      <td>0</td>\n",
              "      <td>0</td>\n",
              "      <td>0</td>\n",
              "      <td>0</td>\n",
              "      <td>0</td>\n",
              "      <td>0</td>\n",
              "      <td>0</td>\n",
              "      <td>0</td>\n",
              "      <td>0</td>\n",
              "      <td>0</td>\n",
              "      <td>0</td>\n",
              "      <td>0</td>\n",
              "      <td>0</td>\n",
              "      <td>0</td>\n",
              "      <td>0</td>\n",
              "      <td>0</td>\n",
              "      <td>0</td>\n",
              "      <td>0</td>\n",
              "      <td>0</td>\n",
              "      <td>0</td>\n",
              "      <td>0</td>\n",
              "      <td>0</td>\n",
              "      <td>0</td>\n",
              "      <td>0</td>\n",
              "      <td>0</td>\n",
              "      <td>0</td>\n",
              "      <td>0</td>\n",
              "      <td>0</td>\n",
              "      <td>0</td>\n",
              "    </tr>\n",
              "  </tbody>\n",
              "</table>\n",
              "<p>453411 rows × 72 columns</p>\n",
              "</div>"
            ],
            "text/plain": [
              "        VisitNumber  ... DepartmentDescription_nan\n",
              "0                 5  ...                         0\n",
              "1                 9  ...                         0\n",
              "2                 9  ...                         0\n",
              "3                 9  ...                         0\n",
              "4                10  ...                         0\n",
              "...             ...  ...                       ...\n",
              "453406       191344  ...                         0\n",
              "453407       191344  ...                         0\n",
              "453408       191344  ...                         0\n",
              "453409       191347  ...                         0\n",
              "453410       191347  ...                         0\n",
              "\n",
              "[453411 rows x 72 columns]"
            ]
          },
          "metadata": {
            "tags": []
          },
          "execution_count": 22
        }
      ]
    },
    {
      "cell_type": "markdown",
      "metadata": {
        "id": "yTfEoZIKqFr2"
      },
      "source": [
        "Now, we group by the VisitNumber and Weekday (they should be the same), and add all values for ScanCount, and the one-hot encoding of DepartmentDescriptioin"
      ]
    },
    {
      "cell_type": "code",
      "metadata": {
        "id": "6MCtFTLTqFr4"
      },
      "source": [
        "df = df.groupby([\"VisitNumber\", \"Weekday\"], as_index=False).sum()"
      ],
      "execution_count": null,
      "outputs": []
    },
    {
      "cell_type": "code",
      "metadata": {
        "id": "8qFtiZSEqFr9",
        "outputId": "cf17b63d-5aa5-423d-9652-e58b2e8f96c8",
        "colab": {
          "base_uri": "https://localhost:8080/",
          "height": 456
        }
      },
      "source": [
        "df"
      ],
      "execution_count": null,
      "outputs": [
        {
          "output_type": "execute_result",
          "data": {
            "text/html": [
              "<div>\n",
              "<style scoped>\n",
              "    .dataframe tbody tr th:only-of-type {\n",
              "        vertical-align: middle;\n",
              "    }\n",
              "\n",
              "    .dataframe tbody tr th {\n",
              "        vertical-align: top;\n",
              "    }\n",
              "\n",
              "    .dataframe thead th {\n",
              "        text-align: right;\n",
              "    }\n",
              "</style>\n",
              "<table border=\"1\" class=\"dataframe\">\n",
              "  <thead>\n",
              "    <tr style=\"text-align: right;\">\n",
              "      <th></th>\n",
              "      <th>VisitNumber</th>\n",
              "      <th>Weekday</th>\n",
              "      <th>ScanCount</th>\n",
              "      <th>DepartmentDescription_1-HR PHOTO</th>\n",
              "      <th>DepartmentDescription_ACCESSORIES</th>\n",
              "      <th>DepartmentDescription_AUTOMOTIVE</th>\n",
              "      <th>DepartmentDescription_BAKERY</th>\n",
              "      <th>DepartmentDescription_BATH AND SHOWER</th>\n",
              "      <th>DepartmentDescription_BEAUTY</th>\n",
              "      <th>DepartmentDescription_BEDDING</th>\n",
              "      <th>DepartmentDescription_BOOKS AND MAGAZINES</th>\n",
              "      <th>DepartmentDescription_BOYS WEAR</th>\n",
              "      <th>DepartmentDescription_BRAS &amp; SHAPEWEAR</th>\n",
              "      <th>DepartmentDescription_CAMERAS AND SUPPLIES</th>\n",
              "      <th>DepartmentDescription_CANDY, TOBACCO, COOKIES</th>\n",
              "      <th>DepartmentDescription_CELEBRATION</th>\n",
              "      <th>DepartmentDescription_COMM BREAD</th>\n",
              "      <th>DepartmentDescription_CONCEPT STORES</th>\n",
              "      <th>DepartmentDescription_COOK AND DINE</th>\n",
              "      <th>DepartmentDescription_DAIRY</th>\n",
              "      <th>DepartmentDescription_DSD GROCERY</th>\n",
              "      <th>DepartmentDescription_ELECTRONICS</th>\n",
              "      <th>DepartmentDescription_FABRICS AND CRAFTS</th>\n",
              "      <th>DepartmentDescription_FINANCIAL SERVICES</th>\n",
              "      <th>DepartmentDescription_FROZEN FOODS</th>\n",
              "      <th>DepartmentDescription_FURNITURE</th>\n",
              "      <th>DepartmentDescription_GIRLS WEAR, 4-6X  AND 7-14</th>\n",
              "      <th>DepartmentDescription_GROCERY DRY GOODS</th>\n",
              "      <th>DepartmentDescription_HARDWARE</th>\n",
              "      <th>DepartmentDescription_HEALTH AND BEAUTY AIDS</th>\n",
              "      <th>DepartmentDescription_HOME DECOR</th>\n",
              "      <th>DepartmentDescription_HOME MANAGEMENT</th>\n",
              "      <th>DepartmentDescription_HORTICULTURE AND ACCESS</th>\n",
              "      <th>DepartmentDescription_HOUSEHOLD CHEMICALS/SUPP</th>\n",
              "      <th>DepartmentDescription_HOUSEHOLD PAPER GOODS</th>\n",
              "      <th>DepartmentDescription_IMPULSE MERCHANDISE</th>\n",
              "      <th>DepartmentDescription_INFANT APPAREL</th>\n",
              "      <th>DepartmentDescription_INFANT CONSUMABLE HARDLINES</th>\n",
              "      <th>DepartmentDescription_JEWELRY AND SUNGLASSES</th>\n",
              "      <th>DepartmentDescription_LADIES SOCKS</th>\n",
              "      <th>DepartmentDescription_LADIESWEAR</th>\n",
              "      <th>DepartmentDescription_LARGE HOUSEHOLD GOODS</th>\n",
              "      <th>DepartmentDescription_LAWN AND GARDEN</th>\n",
              "      <th>DepartmentDescription_LIQUOR,WINE,BEER</th>\n",
              "      <th>DepartmentDescription_MEAT - FRESH &amp; FROZEN</th>\n",
              "      <th>DepartmentDescription_MEDIA AND GAMING</th>\n",
              "      <th>DepartmentDescription_MENS WEAR</th>\n",
              "      <th>DepartmentDescription_MENSWEAR</th>\n",
              "      <th>DepartmentDescription_OFFICE SUPPLIES</th>\n",
              "      <th>DepartmentDescription_OPTICAL - FRAMES</th>\n",
              "      <th>DepartmentDescription_OPTICAL - LENSES</th>\n",
              "      <th>DepartmentDescription_OTHER DEPARTMENTS</th>\n",
              "      <th>DepartmentDescription_PAINT AND ACCESSORIES</th>\n",
              "      <th>DepartmentDescription_PERSONAL CARE</th>\n",
              "      <th>DepartmentDescription_PETS AND SUPPLIES</th>\n",
              "      <th>DepartmentDescription_PHARMACY OTC</th>\n",
              "      <th>DepartmentDescription_PHARMACY RX</th>\n",
              "      <th>DepartmentDescription_PLAYERS AND ELECTRONICS</th>\n",
              "      <th>DepartmentDescription_PLUS AND MATERNITY</th>\n",
              "      <th>DepartmentDescription_PRE PACKED DELI</th>\n",
              "      <th>DepartmentDescription_PRODUCE</th>\n",
              "      <th>DepartmentDescription_SEAFOOD</th>\n",
              "      <th>DepartmentDescription_SEASONAL</th>\n",
              "      <th>DepartmentDescription_SERVICE DELI</th>\n",
              "      <th>DepartmentDescription_SHEER HOSIERY</th>\n",
              "      <th>DepartmentDescription_SHOES</th>\n",
              "      <th>DepartmentDescription_SLEEPWEAR/FOUNDATIONS</th>\n",
              "      <th>DepartmentDescription_SPORTING GOODS</th>\n",
              "      <th>DepartmentDescription_SWIMWEAR/OUTERWEAR</th>\n",
              "      <th>DepartmentDescription_TOYS</th>\n",
              "      <th>DepartmentDescription_WIRELESS</th>\n",
              "      <th>DepartmentDescription_nan</th>\n",
              "    </tr>\n",
              "  </thead>\n",
              "  <tbody>\n",
              "    <tr>\n",
              "      <th>0</th>\n",
              "      <td>5</td>\n",
              "      <td>Friday</td>\n",
              "      <td>-1</td>\n",
              "      <td>0</td>\n",
              "      <td>0</td>\n",
              "      <td>0</td>\n",
              "      <td>0</td>\n",
              "      <td>0</td>\n",
              "      <td>0</td>\n",
              "      <td>0</td>\n",
              "      <td>0</td>\n",
              "      <td>0</td>\n",
              "      <td>0</td>\n",
              "      <td>0</td>\n",
              "      <td>0</td>\n",
              "      <td>0</td>\n",
              "      <td>0</td>\n",
              "      <td>0</td>\n",
              "      <td>0</td>\n",
              "      <td>0</td>\n",
              "      <td>0</td>\n",
              "      <td>0</td>\n",
              "      <td>0</td>\n",
              "      <td>1</td>\n",
              "      <td>0</td>\n",
              "      <td>0</td>\n",
              "      <td>0</td>\n",
              "      <td>0</td>\n",
              "      <td>0</td>\n",
              "      <td>0</td>\n",
              "      <td>0</td>\n",
              "      <td>0</td>\n",
              "      <td>0</td>\n",
              "      <td>0</td>\n",
              "      <td>0</td>\n",
              "      <td>0</td>\n",
              "      <td>0</td>\n",
              "      <td>0</td>\n",
              "      <td>0</td>\n",
              "      <td>0</td>\n",
              "      <td>0</td>\n",
              "      <td>0</td>\n",
              "      <td>0</td>\n",
              "      <td>0</td>\n",
              "      <td>0</td>\n",
              "      <td>0</td>\n",
              "      <td>0</td>\n",
              "      <td>0</td>\n",
              "      <td>0</td>\n",
              "      <td>0</td>\n",
              "      <td>0</td>\n",
              "      <td>0</td>\n",
              "      <td>0</td>\n",
              "      <td>0</td>\n",
              "      <td>0</td>\n",
              "      <td>0</td>\n",
              "      <td>0</td>\n",
              "      <td>0</td>\n",
              "      <td>0</td>\n",
              "      <td>0</td>\n",
              "      <td>0</td>\n",
              "      <td>0</td>\n",
              "      <td>0</td>\n",
              "      <td>0</td>\n",
              "      <td>0</td>\n",
              "      <td>0</td>\n",
              "      <td>0</td>\n",
              "      <td>0</td>\n",
              "      <td>0</td>\n",
              "      <td>0</td>\n",
              "      <td>0</td>\n",
              "      <td>0</td>\n",
              "    </tr>\n",
              "    <tr>\n",
              "      <th>1</th>\n",
              "      <td>9</td>\n",
              "      <td>Friday</td>\n",
              "      <td>3</td>\n",
              "      <td>0</td>\n",
              "      <td>0</td>\n",
              "      <td>0</td>\n",
              "      <td>0</td>\n",
              "      <td>0</td>\n",
              "      <td>0</td>\n",
              "      <td>0</td>\n",
              "      <td>0</td>\n",
              "      <td>0</td>\n",
              "      <td>0</td>\n",
              "      <td>0</td>\n",
              "      <td>0</td>\n",
              "      <td>0</td>\n",
              "      <td>0</td>\n",
              "      <td>0</td>\n",
              "      <td>0</td>\n",
              "      <td>0</td>\n",
              "      <td>0</td>\n",
              "      <td>0</td>\n",
              "      <td>0</td>\n",
              "      <td>0</td>\n",
              "      <td>0</td>\n",
              "      <td>0</td>\n",
              "      <td>0</td>\n",
              "      <td>0</td>\n",
              "      <td>0</td>\n",
              "      <td>0</td>\n",
              "      <td>0</td>\n",
              "      <td>0</td>\n",
              "      <td>0</td>\n",
              "      <td>0</td>\n",
              "      <td>0</td>\n",
              "      <td>1</td>\n",
              "      <td>0</td>\n",
              "      <td>0</td>\n",
              "      <td>0</td>\n",
              "      <td>0</td>\n",
              "      <td>0</td>\n",
              "      <td>0</td>\n",
              "      <td>0</td>\n",
              "      <td>0</td>\n",
              "      <td>0</td>\n",
              "      <td>0</td>\n",
              "      <td>0</td>\n",
              "      <td>0</td>\n",
              "      <td>0</td>\n",
              "      <td>0</td>\n",
              "      <td>0</td>\n",
              "      <td>0</td>\n",
              "      <td>0</td>\n",
              "      <td>0</td>\n",
              "      <td>0</td>\n",
              "      <td>0</td>\n",
              "      <td>0</td>\n",
              "      <td>0</td>\n",
              "      <td>0</td>\n",
              "      <td>0</td>\n",
              "      <td>2</td>\n",
              "      <td>0</td>\n",
              "      <td>0</td>\n",
              "      <td>0</td>\n",
              "      <td>0</td>\n",
              "      <td>0</td>\n",
              "      <td>0</td>\n",
              "      <td>0</td>\n",
              "      <td>0</td>\n",
              "      <td>0</td>\n",
              "      <td>0</td>\n",
              "      <td>0</td>\n",
              "    </tr>\n",
              "    <tr>\n",
              "      <th>2</th>\n",
              "      <td>10</td>\n",
              "      <td>Friday</td>\n",
              "      <td>3</td>\n",
              "      <td>0</td>\n",
              "      <td>0</td>\n",
              "      <td>0</td>\n",
              "      <td>0</td>\n",
              "      <td>0</td>\n",
              "      <td>0</td>\n",
              "      <td>0</td>\n",
              "      <td>0</td>\n",
              "      <td>0</td>\n",
              "      <td>0</td>\n",
              "      <td>0</td>\n",
              "      <td>1</td>\n",
              "      <td>0</td>\n",
              "      <td>0</td>\n",
              "      <td>0</td>\n",
              "      <td>0</td>\n",
              "      <td>0</td>\n",
              "      <td>2</td>\n",
              "      <td>0</td>\n",
              "      <td>0</td>\n",
              "      <td>0</td>\n",
              "      <td>0</td>\n",
              "      <td>0</td>\n",
              "      <td>0</td>\n",
              "      <td>0</td>\n",
              "      <td>0</td>\n",
              "      <td>0</td>\n",
              "      <td>0</td>\n",
              "      <td>0</td>\n",
              "      <td>0</td>\n",
              "      <td>0</td>\n",
              "      <td>0</td>\n",
              "      <td>0</td>\n",
              "      <td>0</td>\n",
              "      <td>0</td>\n",
              "      <td>0</td>\n",
              "      <td>0</td>\n",
              "      <td>0</td>\n",
              "      <td>0</td>\n",
              "      <td>0</td>\n",
              "      <td>0</td>\n",
              "      <td>0</td>\n",
              "      <td>0</td>\n",
              "      <td>0</td>\n",
              "      <td>0</td>\n",
              "      <td>0</td>\n",
              "      <td>0</td>\n",
              "      <td>0</td>\n",
              "      <td>0</td>\n",
              "      <td>0</td>\n",
              "      <td>0</td>\n",
              "      <td>0</td>\n",
              "      <td>0</td>\n",
              "      <td>0</td>\n",
              "      <td>0</td>\n",
              "      <td>0</td>\n",
              "      <td>0</td>\n",
              "      <td>0</td>\n",
              "      <td>0</td>\n",
              "      <td>0</td>\n",
              "      <td>0</td>\n",
              "      <td>0</td>\n",
              "      <td>0</td>\n",
              "      <td>0</td>\n",
              "      <td>0</td>\n",
              "      <td>0</td>\n",
              "      <td>0</td>\n",
              "      <td>0</td>\n",
              "      <td>0</td>\n",
              "    </tr>\n",
              "    <tr>\n",
              "      <th>3</th>\n",
              "      <td>11</td>\n",
              "      <td>Friday</td>\n",
              "      <td>4</td>\n",
              "      <td>0</td>\n",
              "      <td>0</td>\n",
              "      <td>0</td>\n",
              "      <td>0</td>\n",
              "      <td>0</td>\n",
              "      <td>0</td>\n",
              "      <td>0</td>\n",
              "      <td>0</td>\n",
              "      <td>0</td>\n",
              "      <td>0</td>\n",
              "      <td>0</td>\n",
              "      <td>0</td>\n",
              "      <td>0</td>\n",
              "      <td>0</td>\n",
              "      <td>0</td>\n",
              "      <td>0</td>\n",
              "      <td>0</td>\n",
              "      <td>1</td>\n",
              "      <td>0</td>\n",
              "      <td>0</td>\n",
              "      <td>0</td>\n",
              "      <td>0</td>\n",
              "      <td>0</td>\n",
              "      <td>0</td>\n",
              "      <td>1</td>\n",
              "      <td>0</td>\n",
              "      <td>0</td>\n",
              "      <td>0</td>\n",
              "      <td>0</td>\n",
              "      <td>0</td>\n",
              "      <td>0</td>\n",
              "      <td>0</td>\n",
              "      <td>2</td>\n",
              "      <td>0</td>\n",
              "      <td>0</td>\n",
              "      <td>0</td>\n",
              "      <td>0</td>\n",
              "      <td>0</td>\n",
              "      <td>0</td>\n",
              "      <td>0</td>\n",
              "      <td>0</td>\n",
              "      <td>0</td>\n",
              "      <td>0</td>\n",
              "      <td>0</td>\n",
              "      <td>0</td>\n",
              "      <td>0</td>\n",
              "      <td>0</td>\n",
              "      <td>0</td>\n",
              "      <td>0</td>\n",
              "      <td>0</td>\n",
              "      <td>0</td>\n",
              "      <td>0</td>\n",
              "      <td>0</td>\n",
              "      <td>0</td>\n",
              "      <td>0</td>\n",
              "      <td>0</td>\n",
              "      <td>0</td>\n",
              "      <td>0</td>\n",
              "      <td>0</td>\n",
              "      <td>0</td>\n",
              "      <td>0</td>\n",
              "      <td>0</td>\n",
              "      <td>0</td>\n",
              "      <td>0</td>\n",
              "      <td>0</td>\n",
              "      <td>0</td>\n",
              "      <td>0</td>\n",
              "      <td>0</td>\n",
              "      <td>0</td>\n",
              "    </tr>\n",
              "    <tr>\n",
              "      <th>4</th>\n",
              "      <td>12</td>\n",
              "      <td>Friday</td>\n",
              "      <td>7</td>\n",
              "      <td>0</td>\n",
              "      <td>0</td>\n",
              "      <td>0</td>\n",
              "      <td>0</td>\n",
              "      <td>0</td>\n",
              "      <td>0</td>\n",
              "      <td>0</td>\n",
              "      <td>0</td>\n",
              "      <td>2</td>\n",
              "      <td>0</td>\n",
              "      <td>0</td>\n",
              "      <td>0</td>\n",
              "      <td>0</td>\n",
              "      <td>0</td>\n",
              "      <td>0</td>\n",
              "      <td>0</td>\n",
              "      <td>0</td>\n",
              "      <td>0</td>\n",
              "      <td>0</td>\n",
              "      <td>0</td>\n",
              "      <td>0</td>\n",
              "      <td>0</td>\n",
              "      <td>0</td>\n",
              "      <td>0</td>\n",
              "      <td>0</td>\n",
              "      <td>0</td>\n",
              "      <td>0</td>\n",
              "      <td>0</td>\n",
              "      <td>0</td>\n",
              "      <td>0</td>\n",
              "      <td>2</td>\n",
              "      <td>0</td>\n",
              "      <td>0</td>\n",
              "      <td>0</td>\n",
              "      <td>0</td>\n",
              "      <td>0</td>\n",
              "      <td>0</td>\n",
              "      <td>0</td>\n",
              "      <td>0</td>\n",
              "      <td>0</td>\n",
              "      <td>0</td>\n",
              "      <td>0</td>\n",
              "      <td>0</td>\n",
              "      <td>0</td>\n",
              "      <td>0</td>\n",
              "      <td>0</td>\n",
              "      <td>0</td>\n",
              "      <td>0</td>\n",
              "      <td>0</td>\n",
              "      <td>0</td>\n",
              "      <td>2</td>\n",
              "      <td>0</td>\n",
              "      <td>0</td>\n",
              "      <td>0</td>\n",
              "      <td>0</td>\n",
              "      <td>0</td>\n",
              "      <td>0</td>\n",
              "      <td>0</td>\n",
              "      <td>0</td>\n",
              "      <td>0</td>\n",
              "      <td>0</td>\n",
              "      <td>0</td>\n",
              "      <td>1</td>\n",
              "      <td>0</td>\n",
              "      <td>0</td>\n",
              "      <td>0</td>\n",
              "      <td>0</td>\n",
              "      <td>0</td>\n",
              "      <td>0</td>\n",
              "    </tr>\n",
              "    <tr>\n",
              "      <th>...</th>\n",
              "      <td>...</td>\n",
              "      <td>...</td>\n",
              "      <td>...</td>\n",
              "      <td>...</td>\n",
              "      <td>...</td>\n",
              "      <td>...</td>\n",
              "      <td>...</td>\n",
              "      <td>...</td>\n",
              "      <td>...</td>\n",
              "      <td>...</td>\n",
              "      <td>...</td>\n",
              "      <td>...</td>\n",
              "      <td>...</td>\n",
              "      <td>...</td>\n",
              "      <td>...</td>\n",
              "      <td>...</td>\n",
              "      <td>...</td>\n",
              "      <td>...</td>\n",
              "      <td>...</td>\n",
              "      <td>...</td>\n",
              "      <td>...</td>\n",
              "      <td>...</td>\n",
              "      <td>...</td>\n",
              "      <td>...</td>\n",
              "      <td>...</td>\n",
              "      <td>...</td>\n",
              "      <td>...</td>\n",
              "      <td>...</td>\n",
              "      <td>...</td>\n",
              "      <td>...</td>\n",
              "      <td>...</td>\n",
              "      <td>...</td>\n",
              "      <td>...</td>\n",
              "      <td>...</td>\n",
              "      <td>...</td>\n",
              "      <td>...</td>\n",
              "      <td>...</td>\n",
              "      <td>...</td>\n",
              "      <td>...</td>\n",
              "      <td>...</td>\n",
              "      <td>...</td>\n",
              "      <td>...</td>\n",
              "      <td>...</td>\n",
              "      <td>...</td>\n",
              "      <td>...</td>\n",
              "      <td>...</td>\n",
              "      <td>...</td>\n",
              "      <td>...</td>\n",
              "      <td>...</td>\n",
              "      <td>...</td>\n",
              "      <td>...</td>\n",
              "      <td>...</td>\n",
              "      <td>...</td>\n",
              "      <td>...</td>\n",
              "      <td>...</td>\n",
              "      <td>...</td>\n",
              "      <td>...</td>\n",
              "      <td>...</td>\n",
              "      <td>...</td>\n",
              "      <td>...</td>\n",
              "      <td>...</td>\n",
              "      <td>...</td>\n",
              "      <td>...</td>\n",
              "      <td>...</td>\n",
              "      <td>...</td>\n",
              "      <td>...</td>\n",
              "      <td>...</td>\n",
              "      <td>...</td>\n",
              "      <td>...</td>\n",
              "      <td>...</td>\n",
              "      <td>...</td>\n",
              "      <td>...</td>\n",
              "    </tr>\n",
              "    <tr>\n",
              "      <th>67024</th>\n",
              "      <td>191329</td>\n",
              "      <td>Sunday</td>\n",
              "      <td>20</td>\n",
              "      <td>0</td>\n",
              "      <td>0</td>\n",
              "      <td>0</td>\n",
              "      <td>0</td>\n",
              "      <td>2</td>\n",
              "      <td>0</td>\n",
              "      <td>0</td>\n",
              "      <td>0</td>\n",
              "      <td>0</td>\n",
              "      <td>0</td>\n",
              "      <td>0</td>\n",
              "      <td>0</td>\n",
              "      <td>0</td>\n",
              "      <td>0</td>\n",
              "      <td>0</td>\n",
              "      <td>7</td>\n",
              "      <td>2</td>\n",
              "      <td>0</td>\n",
              "      <td>0</td>\n",
              "      <td>0</td>\n",
              "      <td>1</td>\n",
              "      <td>1</td>\n",
              "      <td>0</td>\n",
              "      <td>0</td>\n",
              "      <td>0</td>\n",
              "      <td>0</td>\n",
              "      <td>0</td>\n",
              "      <td>1</td>\n",
              "      <td>4</td>\n",
              "      <td>0</td>\n",
              "      <td>1</td>\n",
              "      <td>0</td>\n",
              "      <td>1</td>\n",
              "      <td>0</td>\n",
              "      <td>0</td>\n",
              "      <td>0</td>\n",
              "      <td>0</td>\n",
              "      <td>0</td>\n",
              "      <td>0</td>\n",
              "      <td>0</td>\n",
              "      <td>0</td>\n",
              "      <td>0</td>\n",
              "      <td>0</td>\n",
              "      <td>0</td>\n",
              "      <td>0</td>\n",
              "      <td>0</td>\n",
              "      <td>0</td>\n",
              "      <td>0</td>\n",
              "      <td>0</td>\n",
              "      <td>0</td>\n",
              "      <td>0</td>\n",
              "      <td>0</td>\n",
              "      <td>0</td>\n",
              "      <td>0</td>\n",
              "      <td>0</td>\n",
              "      <td>0</td>\n",
              "      <td>0</td>\n",
              "      <td>0</td>\n",
              "      <td>0</td>\n",
              "      <td>0</td>\n",
              "      <td>0</td>\n",
              "      <td>0</td>\n",
              "      <td>0</td>\n",
              "      <td>0</td>\n",
              "      <td>0</td>\n",
              "      <td>0</td>\n",
              "      <td>0</td>\n",
              "      <td>0</td>\n",
              "      <td>0</td>\n",
              "    </tr>\n",
              "    <tr>\n",
              "      <th>67025</th>\n",
              "      <td>191337</td>\n",
              "      <td>Sunday</td>\n",
              "      <td>27</td>\n",
              "      <td>0</td>\n",
              "      <td>0</td>\n",
              "      <td>0</td>\n",
              "      <td>1</td>\n",
              "      <td>0</td>\n",
              "      <td>0</td>\n",
              "      <td>0</td>\n",
              "      <td>0</td>\n",
              "      <td>0</td>\n",
              "      <td>0</td>\n",
              "      <td>0</td>\n",
              "      <td>0</td>\n",
              "      <td>0</td>\n",
              "      <td>0</td>\n",
              "      <td>0</td>\n",
              "      <td>0</td>\n",
              "      <td>5</td>\n",
              "      <td>3</td>\n",
              "      <td>0</td>\n",
              "      <td>0</td>\n",
              "      <td>0</td>\n",
              "      <td>2</td>\n",
              "      <td>0</td>\n",
              "      <td>0</td>\n",
              "      <td>10</td>\n",
              "      <td>0</td>\n",
              "      <td>0</td>\n",
              "      <td>0</td>\n",
              "      <td>0</td>\n",
              "      <td>0</td>\n",
              "      <td>0</td>\n",
              "      <td>0</td>\n",
              "      <td>2</td>\n",
              "      <td>0</td>\n",
              "      <td>0</td>\n",
              "      <td>0</td>\n",
              "      <td>0</td>\n",
              "      <td>0</td>\n",
              "      <td>0</td>\n",
              "      <td>0</td>\n",
              "      <td>0</td>\n",
              "      <td>4</td>\n",
              "      <td>0</td>\n",
              "      <td>0</td>\n",
              "      <td>0</td>\n",
              "      <td>0</td>\n",
              "      <td>0</td>\n",
              "      <td>0</td>\n",
              "      <td>0</td>\n",
              "      <td>0</td>\n",
              "      <td>0</td>\n",
              "      <td>0</td>\n",
              "      <td>0</td>\n",
              "      <td>0</td>\n",
              "      <td>0</td>\n",
              "      <td>0</td>\n",
              "      <td>1</td>\n",
              "      <td>0</td>\n",
              "      <td>0</td>\n",
              "      <td>0</td>\n",
              "      <td>0</td>\n",
              "      <td>0</td>\n",
              "      <td>0</td>\n",
              "      <td>0</td>\n",
              "      <td>0</td>\n",
              "      <td>0</td>\n",
              "      <td>0</td>\n",
              "      <td>0</td>\n",
              "      <td>0</td>\n",
              "    </tr>\n",
              "    <tr>\n",
              "      <th>67026</th>\n",
              "      <td>191343</td>\n",
              "      <td>Sunday</td>\n",
              "      <td>9</td>\n",
              "      <td>0</td>\n",
              "      <td>0</td>\n",
              "      <td>0</td>\n",
              "      <td>0</td>\n",
              "      <td>0</td>\n",
              "      <td>0</td>\n",
              "      <td>0</td>\n",
              "      <td>0</td>\n",
              "      <td>0</td>\n",
              "      <td>0</td>\n",
              "      <td>0</td>\n",
              "      <td>0</td>\n",
              "      <td>0</td>\n",
              "      <td>0</td>\n",
              "      <td>0</td>\n",
              "      <td>0</td>\n",
              "      <td>0</td>\n",
              "      <td>1</td>\n",
              "      <td>0</td>\n",
              "      <td>0</td>\n",
              "      <td>0</td>\n",
              "      <td>0</td>\n",
              "      <td>0</td>\n",
              "      <td>0</td>\n",
              "      <td>0</td>\n",
              "      <td>0</td>\n",
              "      <td>0</td>\n",
              "      <td>0</td>\n",
              "      <td>0</td>\n",
              "      <td>0</td>\n",
              "      <td>0</td>\n",
              "      <td>0</td>\n",
              "      <td>1</td>\n",
              "      <td>0</td>\n",
              "      <td>0</td>\n",
              "      <td>0</td>\n",
              "      <td>0</td>\n",
              "      <td>0</td>\n",
              "      <td>0</td>\n",
              "      <td>0</td>\n",
              "      <td>0</td>\n",
              "      <td>0</td>\n",
              "      <td>0</td>\n",
              "      <td>5</td>\n",
              "      <td>0</td>\n",
              "      <td>0</td>\n",
              "      <td>0</td>\n",
              "      <td>0</td>\n",
              "      <td>0</td>\n",
              "      <td>0</td>\n",
              "      <td>0</td>\n",
              "      <td>0</td>\n",
              "      <td>0</td>\n",
              "      <td>0</td>\n",
              "      <td>0</td>\n",
              "      <td>0</td>\n",
              "      <td>0</td>\n",
              "      <td>0</td>\n",
              "      <td>0</td>\n",
              "      <td>0</td>\n",
              "      <td>0</td>\n",
              "      <td>0</td>\n",
              "      <td>0</td>\n",
              "      <td>0</td>\n",
              "      <td>0</td>\n",
              "      <td>0</td>\n",
              "      <td>0</td>\n",
              "      <td>0</td>\n",
              "      <td>0</td>\n",
              "    </tr>\n",
              "    <tr>\n",
              "      <th>67027</th>\n",
              "      <td>191344</td>\n",
              "      <td>Sunday</td>\n",
              "      <td>5</td>\n",
              "      <td>0</td>\n",
              "      <td>0</td>\n",
              "      <td>0</td>\n",
              "      <td>0</td>\n",
              "      <td>0</td>\n",
              "      <td>4</td>\n",
              "      <td>0</td>\n",
              "      <td>0</td>\n",
              "      <td>0</td>\n",
              "      <td>0</td>\n",
              "      <td>0</td>\n",
              "      <td>0</td>\n",
              "      <td>0</td>\n",
              "      <td>0</td>\n",
              "      <td>0</td>\n",
              "      <td>0</td>\n",
              "      <td>0</td>\n",
              "      <td>0</td>\n",
              "      <td>0</td>\n",
              "      <td>0</td>\n",
              "      <td>0</td>\n",
              "      <td>0</td>\n",
              "      <td>0</td>\n",
              "      <td>0</td>\n",
              "      <td>0</td>\n",
              "      <td>0</td>\n",
              "      <td>0</td>\n",
              "      <td>0</td>\n",
              "      <td>0</td>\n",
              "      <td>0</td>\n",
              "      <td>0</td>\n",
              "      <td>0</td>\n",
              "      <td>0</td>\n",
              "      <td>0</td>\n",
              "      <td>0</td>\n",
              "      <td>0</td>\n",
              "      <td>0</td>\n",
              "      <td>0</td>\n",
              "      <td>0</td>\n",
              "      <td>0</td>\n",
              "      <td>0</td>\n",
              "      <td>0</td>\n",
              "      <td>0</td>\n",
              "      <td>0</td>\n",
              "      <td>0</td>\n",
              "      <td>0</td>\n",
              "      <td>0</td>\n",
              "      <td>0</td>\n",
              "      <td>0</td>\n",
              "      <td>0</td>\n",
              "      <td>0</td>\n",
              "      <td>0</td>\n",
              "      <td>0</td>\n",
              "      <td>0</td>\n",
              "      <td>0</td>\n",
              "      <td>0</td>\n",
              "      <td>0</td>\n",
              "      <td>0</td>\n",
              "      <td>0</td>\n",
              "      <td>0</td>\n",
              "      <td>0</td>\n",
              "      <td>0</td>\n",
              "      <td>0</td>\n",
              "      <td>0</td>\n",
              "      <td>0</td>\n",
              "      <td>0</td>\n",
              "      <td>0</td>\n",
              "      <td>1</td>\n",
              "      <td>0</td>\n",
              "    </tr>\n",
              "    <tr>\n",
              "      <th>67028</th>\n",
              "      <td>191347</td>\n",
              "      <td>Sunday</td>\n",
              "      <td>2</td>\n",
              "      <td>0</td>\n",
              "      <td>0</td>\n",
              "      <td>0</td>\n",
              "      <td>0</td>\n",
              "      <td>0</td>\n",
              "      <td>0</td>\n",
              "      <td>0</td>\n",
              "      <td>0</td>\n",
              "      <td>0</td>\n",
              "      <td>0</td>\n",
              "      <td>0</td>\n",
              "      <td>0</td>\n",
              "      <td>0</td>\n",
              "      <td>0</td>\n",
              "      <td>0</td>\n",
              "      <td>0</td>\n",
              "      <td>1</td>\n",
              "      <td>0</td>\n",
              "      <td>0</td>\n",
              "      <td>0</td>\n",
              "      <td>0</td>\n",
              "      <td>0</td>\n",
              "      <td>0</td>\n",
              "      <td>0</td>\n",
              "      <td>1</td>\n",
              "      <td>0</td>\n",
              "      <td>0</td>\n",
              "      <td>0</td>\n",
              "      <td>0</td>\n",
              "      <td>0</td>\n",
              "      <td>0</td>\n",
              "      <td>0</td>\n",
              "      <td>0</td>\n",
              "      <td>0</td>\n",
              "      <td>0</td>\n",
              "      <td>0</td>\n",
              "      <td>0</td>\n",
              "      <td>0</td>\n",
              "      <td>0</td>\n",
              "      <td>0</td>\n",
              "      <td>0</td>\n",
              "      <td>0</td>\n",
              "      <td>0</td>\n",
              "      <td>0</td>\n",
              "      <td>0</td>\n",
              "      <td>0</td>\n",
              "      <td>0</td>\n",
              "      <td>0</td>\n",
              "      <td>0</td>\n",
              "      <td>0</td>\n",
              "      <td>0</td>\n",
              "      <td>0</td>\n",
              "      <td>0</td>\n",
              "      <td>0</td>\n",
              "      <td>0</td>\n",
              "      <td>0</td>\n",
              "      <td>0</td>\n",
              "      <td>0</td>\n",
              "      <td>0</td>\n",
              "      <td>0</td>\n",
              "      <td>0</td>\n",
              "      <td>0</td>\n",
              "      <td>0</td>\n",
              "      <td>0</td>\n",
              "      <td>0</td>\n",
              "      <td>0</td>\n",
              "      <td>0</td>\n",
              "      <td>0</td>\n",
              "      <td>0</td>\n",
              "    </tr>\n",
              "  </tbody>\n",
              "</table>\n",
              "<p>67029 rows × 72 columns</p>\n",
              "</div>"
            ],
            "text/plain": [
              "       VisitNumber  ... DepartmentDescription_nan\n",
              "0                5  ...                         0\n",
              "1                9  ...                         0\n",
              "2               10  ...                         0\n",
              "3               11  ...                         0\n",
              "4               12  ...                         0\n",
              "...            ...  ...                       ...\n",
              "67024       191329  ...                         0\n",
              "67025       191337  ...                         0\n",
              "67026       191343  ...                         0\n",
              "67027       191344  ...                         0\n",
              "67028       191347  ...                         0\n",
              "\n",
              "[67029 rows x 72 columns]"
            ]
          },
          "metadata": {
            "tags": []
          },
          "execution_count": 24
        }
      ]
    },
    {
      "cell_type": "code",
      "metadata": {
        "id": "hWPDDRrRqFsB"
      },
      "source": [
        "def transform_data(train_data_fname, test_data_fname):\n",
        "    df_train = pd.read_csv(train_data_fname)\n",
        "    df_train['is_train_set'] = 1\n",
        "    df_test = pd.read_csv(test_data_fname)\n",
        "    df_test['is_train_set'] = 0\n",
        "\n",
        "    # we  get the TripType for the train set. To do that, we group by VisitNumber and\n",
        "    # then we get the max (or min or avg)\n",
        "    y = df_train.groupby([\"VisitNumber\", \"Weekday\"], as_index=False).max().TripType\n",
        "\n",
        "    # we remove the TripType now, and concat training and testing data\n",
        "    # the concat is done so that we have the same columns for both datasets\n",
        "    # after one-hot encoding\n",
        "    df_train = df_train.drop(\"TripType\", axis=1)\n",
        "    df = pd.concat([df_train, df_test])\n",
        "\n",
        "    # Obtenemos desde el UPC el codigo y marca del producto por separado.\n",
        "    # https://es.wikipedia.org/wiki/C%C3%B3digo_Universal_de_Producto\n",
        "    df['Upc_product'] = df['Upc'] % 100000\n",
        "    df[\"Upc_brand\"] = df[\"Upc\"]  // 100000\n",
        "    \n",
        "    # the next three operations are the ones we have just presented in the previous lines\n",
        "    \n",
        "    # drop the columns we won't use (it may be good to use them somehow)\n",
        "    #df = df.drop([\"Upc\", \"FinelineNumber\"], axis=1)\n",
        "\n",
        "    df = df.drop([\"Upc\"], axis=1)\n",
        "\n",
        "\n",
        "    encoder = ce.BaseNEncoder(cols = [\"FinelineNumber\",\"Upc_product\",\"Upc_brand\"], return_df=True,base=2)\n",
        "    df = encoder.fit_transform(df)\n",
        "\n",
        "    # one-hot encoding for the DepartmentDescription\n",
        "    df = pd.get_dummies(df, columns=[\"DepartmentDescription\"], dummy_na=True)\n",
        "\n",
        "    # now we add the groupby values\n",
        "    df = df.groupby([\"VisitNumber\", \"Weekday\"], as_index=False).sum()\n",
        "    \n",
        "    # finally, we do one-hot encoding for the Weekday\n",
        "    df = pd.get_dummies(df, columns=[\"Weekday\"], dummy_na=True)\n",
        "\n",
        "    # set VisitNumbers as index\n",
        "    df.set_index(\"VisitNumber\", inplace=True) \n",
        "\n",
        "    # get train and test back\n",
        "    df_train = df[df.is_train_set != 0]\n",
        "    df_test = df[df.is_train_set == 0]\n",
        "    \n",
        "    X = df_train.drop([\"is_train_set\"], axis=1)\n",
        "    yy = None\n",
        "    XX = df_test.drop([\"is_train_set\"], axis=1)\n",
        "\n",
        "    return X, y, XX, yy"
      ],
      "execution_count": null,
      "outputs": []
    },
    {
      "cell_type": "markdown",
      "metadata": {
        "id": "E6hGbbDmqFsI"
      },
      "source": [
        "Load the data..."
      ]
    },
    {
      "cell_type": "markdown",
      "metadata": {
        "id": "flvm7zDWZ9dr"
      },
      "source": [
        ""
      ]
    },
    {
      "cell_type": "code",
      "metadata": {
        "id": "Ir1c7v9oqFsK",
        "outputId": "8e154763-4b21-4452-d532-593fdb3fc681",
        "colab": {
          "base_uri": "https://localhost:8080/",
          "height": 71
        }
      },
      "source": [
        "# Se aplicaron algunos cambios a la funcion de transform_data\n",
        "\n",
        "X, y, XX, yy = transform_data(URL_TRAIN, URL_TEST)"
      ],
      "execution_count": null,
      "outputs": [
        {
          "output_type": "stream",
          "text": [
            "/usr/local/lib/python3.6/dist-packages/category_encoders/utils.py:21: FutureWarning: is_categorical is deprecated and will be removed in a future version.  Use is_categorical_dtype instead\n",
            "  elif pd.api.types.is_categorical(cols):\n"
          ],
          "name": "stderr"
        }
      ]
    },
    {
      "cell_type": "markdown",
      "metadata": {
        "id": "y6lgFgRDqFsP"
      },
      "source": [
        "Create the model and evaluate it"
      ]
    },
    {
      "cell_type": "code",
      "metadata": {
        "id": "oxVfJgK6qFsQ"
      },
      "source": [
        "# split training dataset into train and \"validation\" \n",
        "# (we won't be using validation set in this example, because of the cross-validation;\n",
        "# but it could be useful for you depending on your approach)\n",
        "#from sklearn.model_selection import train_test_split\n",
        "#X_train, X_valid, y_train, y_valid = train_test_split(X, y, test_size=0.3, random_state=42)"
      ],
      "execution_count": null,
      "outputs": []
    },
    {
      "cell_type": "code",
      "metadata": {
        "id": "g58U-SkQqFsV"
      },
      "source": [
        "# results dataframe is used to store the computed results\n",
        "#results = pd.DataFrame(columns=('clf', 'best_acc'))"
      ],
      "execution_count": null,
      "outputs": []
    },
    {
      "cell_type": "code",
      "metadata": {
        "id": "vv8ohL69qFsZ"
      },
      "source": [
        "# we will use a DesicionTree to classify and GridSearch to determine the parameters\n",
        "#from sklearn.tree import DecisionTreeClassifier as DT\n",
        "#from sklearn.model_selection import GridSearchCV\n",
        "#from sklearn.metrics import accuracy_score\n",
        "\n",
        "#tree_param = {'criterion':('gini', 'entropy'), 'min_samples_leaf':(1, 2, 5),\n",
        "#              'min_samples_split':(2, 3, 5, 10, 50, 100)}\n",
        "#tree = DT(random_state=42)\n",
        "#tree_clf = GridSearchCV(tree, tree_param, cv=3, scoring='accuracy') #scoring='balanced_accuracy')\n",
        "#tree_clf.fit(X_train, y_train)\n",
        "#best_tree_clf = tree_clf.best_estimator_"
      ],
      "execution_count": null,
      "outputs": []
    },
    {
      "cell_type": "code",
      "metadata": {
        "id": "01QB2yzyqFse"
      },
      "source": [
        "#print('Best Decision Tree accuracy: ', tree_clf.best_score_)\n",
        "#print(best_tree_clf)\n",
        "#results = results.append({'clf': best_tree_clf, 'best_acc': tree_clf.best_score_}, ignore_index=True)\n",
        "\n",
        "#print('The best classifier so far is: ')\n",
        "#print(results.loc[results['best_acc'].idxmax()]['clf'])"
      ],
      "execution_count": null,
      "outputs": []
    },
    {
      "cell_type": "markdown",
      "metadata": {
        "id": "cyGmrsHtqFsi"
      },
      "source": [
        "**And finally**, we predict the unknown label for the testing set"
      ]
    },
    {
      "cell_type": "code",
      "metadata": {
        "id": "1ojxuW5dqFsi"
      },
      "source": [
        "#X.shape, XX.shape"
      ],
      "execution_count": null,
      "outputs": []
    },
    {
      "cell_type": "code",
      "metadata": {
        "id": "BDE58x9tqFso"
      },
      "source": [
        "#yy = results.clf.iloc[0].predict(XX)"
      ],
      "execution_count": null,
      "outputs": []
    },
    {
      "cell_type": "markdown",
      "metadata": {
        "id": "b3NahUnrqFsv"
      },
      "source": [
        "The last thing we do is generating a file that should be *submitted* on kaggle"
      ]
    },
    {
      "cell_type": "code",
      "metadata": {
        "id": "hRX6ZyE7qFsw"
      },
      "source": [
        "#submission = pd.DataFrame(list(zip(XX.VisitNumber, yy)), columns=[\"VisitNumber\", \"TripType\"])\n",
        "#submission.to_csv(\"data/submission.csv\", header=True, index=False)"
      ],
      "execution_count": null,
      "outputs": []
    },
    {
      "cell_type": "markdown",
      "metadata": {
        "id": "XDVed9o42-me"
      },
      "source": [
        ""
      ]
    },
    {
      "cell_type": "code",
      "metadata": {
        "id": "MFCi5278qFs4"
      },
      "source": [
        "X_train, X_test, y_train, y_test = train_test_split(X, y, test_size=0.3, random_state=0, shuffle=False)"
      ],
      "execution_count": null,
      "outputs": []
    },
    {
      "cell_type": "code",
      "metadata": {
        "id": "I22jMNR_KVxw",
        "outputId": "6bd80fbf-6c46-4799-8403-ee17f8b0040f",
        "colab": {
          "base_uri": "https://localhost:8080/",
          "height": 136
        }
      },
      "source": [
        "# Construyo el modelo y ajusto los datos.\n",
        "modelo = XGBClassifier()\n",
        "modelo.fit(X_train, y_train)"
      ],
      "execution_count": null,
      "outputs": [
        {
          "output_type": "execute_result",
          "data": {
            "text/plain": [
              "XGBClassifier(base_score=0.5, booster='gbtree', colsample_bylevel=1,\n",
              "              colsample_bynode=1, colsample_bytree=1, gamma=0,\n",
              "              learning_rate=0.1, max_delta_step=0, max_depth=3,\n",
              "              min_child_weight=1, missing=None, n_estimators=100, n_jobs=1,\n",
              "              nthread=None, objective='multi:softprob', random_state=0,\n",
              "              reg_alpha=0, reg_lambda=1, scale_pos_weight=1, seed=None,\n",
              "              silent=None, subsample=1, verbosity=1)"
            ]
          },
          "metadata": {
            "tags": []
          },
          "execution_count": 32
        }
      ]
    },
    {
      "cell_type": "code",
      "metadata": {
        "id": "865EATfyOxRD",
        "outputId": "f88bf836-4f55-4bbf-9049-5056e0942f9c",
        "colab": {
          "base_uri": "https://localhost:8080/",
          "height": 34
        }
      },
      "source": [
        "# Realizo las predicciones\n",
        "y_pred = modelo.predict(X_train)\n",
        "accuracy_score(y_train, y_pred)"
      ],
      "execution_count": null,
      "outputs": [
        {
          "output_type": "execute_result",
          "data": {
            "text/plain": [
              "0.7324168797953964"
            ]
          },
          "metadata": {
            "tags": []
          },
          "execution_count": 33
        }
      ]
    },
    {
      "cell_type": "code",
      "metadata": {
        "id": "ffhrFyP7QUwC",
        "outputId": "0c35ca2c-b9ab-4a5c-d594-14eb6bb65337",
        "colab": {
          "base_uri": "https://localhost:8080/",
          "height": 34
        }
      },
      "source": [
        "y_pred_test = modelo.predict(X_test)\n",
        "accuracy_score(y_test, y_pred_test)"
      ],
      "execution_count": null,
      "outputs": [
        {
          "output_type": "execute_result",
          "data": {
            "text/plain": [
              "0.7006812869859267"
            ]
          },
          "metadata": {
            "tags": []
          },
          "execution_count": 34
        }
      ]
    },
    {
      "cell_type": "code",
      "metadata": {
        "id": "BIqDplIxaaXU"
      },
      "source": [
        "yy_pred = modelo.predict(XX)"
      ],
      "execution_count": null,
      "outputs": []
    },
    {
      "cell_type": "code",
      "metadata": {
        "id": "2VOshwI3Lk2Y"
      },
      "source": [
        "XX = XX.reset_index()"
      ],
      "execution_count": null,
      "outputs": []
    },
    {
      "cell_type": "code",
      "metadata": {
        "id": "5BW0y0D0RyLJ"
      },
      "source": [
        "submission = pd.DataFrame(list(zip(XX.VisitNumber, yy_pred)), columns=[\"VisitNumber\", \"TripType\"])"
      ],
      "execution_count": null,
      "outputs": []
    },
    {
      "cell_type": "code",
      "metadata": {
        "id": "G3lOagmRdtT8"
      },
      "source": [
        "submission.to_csv(\"submission.csv\", header=True, index=False)"
      ],
      "execution_count": null,
      "outputs": []
    },
    {
      "cell_type": "markdown",
      "metadata": {
        "id": "vt5yb4ATvBd_"
      },
      "source": [
        "###Otros modelos probados:"
      ]
    },
    {
      "cell_type": "code",
      "metadata": {
        "id": "w1rWNE711jDf"
      },
      "source": [
        "from sklearn.datasets import make_classification\n",
        "from sklearn.ensemble import GradientBoostingClassifier\n",
        "from sklearn.metrics import roc_curve, auc\n",
        "\n",
        "from sklearn.model_selection import GridSearchCV\n",
        "\n",
        "X_train, X_test, y_train, y_test = train_test_split(X, y, test_size=0.3, random_state=0, shuffle=False)"
      ],
      "execution_count": null,
      "outputs": []
    },
    {
      "cell_type": "code",
      "metadata": {
        "id": "YMpZ7-Ji00lX"
      },
      "source": [
        "param_grid = {\n",
        "    'n_estimators': [50, 100, 150],\n",
        "    'max_depth': [3, 5, 7, 9]\n",
        "}\n",
        "\n",
        "#param_grid = {\n",
        "#    'n_estimators': [1,2],\n",
        "#    'max_depth': [1,2],\n",
        "#}\n",
        "\n",
        "model = GradientBoostingClassifier(random_state=0, learning_rate=0.1, n_iter_no_change=3)\n",
        "\n",
        "cv = GridSearchCV(model, param_grid, scoring='accuracy', cv=3, verbose=10)"
      ],
      "execution_count": null,
      "outputs": []
    },
    {
      "cell_type": "code",
      "metadata": {
        "id": "M8Y7qyNn7mlp",
        "outputId": "270d995f-1629-4217-a785-63c40f9f4b0d",
        "colab": {
          "base_uri": "https://localhost:8080/",
          "height": 1000
        }
      },
      "source": [
        "cv.fit(X_train, y_train)"
      ],
      "execution_count": null,
      "outputs": [
        {
          "output_type": "stream",
          "text": [
            "Fitting 3 folds for each of 12 candidates, totalling 36 fits\n",
            "[CV] max_depth=3, n_estimators=50 ....................................\n"
          ],
          "name": "stdout"
        },
        {
          "output_type": "stream",
          "text": [
            "[Parallel(n_jobs=1)]: Using backend SequentialBackend with 1 concurrent workers.\n"
          ],
          "name": "stderr"
        },
        {
          "output_type": "stream",
          "text": [
            "[CV] ........ max_depth=3, n_estimators=50, score=0.635, total= 2.2min\n",
            "[CV] max_depth=3, n_estimators=50 ....................................\n"
          ],
          "name": "stdout"
        },
        {
          "output_type": "stream",
          "text": [
            "[Parallel(n_jobs=1)]: Done   1 out of   1 | elapsed:  2.2min remaining:    0.0s\n"
          ],
          "name": "stderr"
        },
        {
          "output_type": "stream",
          "text": [
            "[CV] ........ max_depth=3, n_estimators=50, score=0.687, total= 6.0min\n",
            "[CV] max_depth=3, n_estimators=50 ....................................\n"
          ],
          "name": "stdout"
        },
        {
          "output_type": "stream",
          "text": [
            "[Parallel(n_jobs=1)]: Done   2 out of   2 | elapsed:  8.2min remaining:    0.0s\n"
          ],
          "name": "stderr"
        },
        {
          "output_type": "stream",
          "text": [
            "[CV] ........ max_depth=3, n_estimators=50, score=0.583, total= 1.8min\n",
            "[CV] max_depth=3, n_estimators=100 ...................................\n"
          ],
          "name": "stdout"
        },
        {
          "output_type": "stream",
          "text": [
            "[Parallel(n_jobs=1)]: Done   3 out of   3 | elapsed: 10.0min remaining:    0.0s\n"
          ],
          "name": "stderr"
        },
        {
          "output_type": "stream",
          "text": [
            "[CV] ....... max_depth=3, n_estimators=100, score=0.635, total= 2.4min\n",
            "[CV] max_depth=3, n_estimators=100 ...................................\n"
          ],
          "name": "stdout"
        },
        {
          "output_type": "stream",
          "text": [
            "[Parallel(n_jobs=1)]: Done   4 out of   4 | elapsed: 12.5min remaining:    0.0s\n"
          ],
          "name": "stderr"
        },
        {
          "output_type": "stream",
          "text": [
            "[CV] ....... max_depth=3, n_estimators=100, score=0.687, total= 6.5min\n",
            "[CV] max_depth=3, n_estimators=100 ...................................\n"
          ],
          "name": "stdout"
        },
        {
          "output_type": "stream",
          "text": [
            "[Parallel(n_jobs=1)]: Done   5 out of   5 | elapsed: 19.0min remaining:    0.0s\n"
          ],
          "name": "stderr"
        },
        {
          "output_type": "stream",
          "text": [
            "[CV] ....... max_depth=3, n_estimators=100, score=0.583, total= 1.7min\n",
            "[CV] max_depth=3, n_estimators=150 ...................................\n"
          ],
          "name": "stdout"
        },
        {
          "output_type": "stream",
          "text": [
            "[Parallel(n_jobs=1)]: Done   6 out of   6 | elapsed: 20.7min remaining:    0.0s\n"
          ],
          "name": "stderr"
        },
        {
          "output_type": "stream",
          "text": [
            "[CV] ....... max_depth=3, n_estimators=150, score=0.635, total= 2.2min\n",
            "[CV] max_depth=3, n_estimators=150 ...................................\n"
          ],
          "name": "stdout"
        },
        {
          "output_type": "stream",
          "text": [
            "[Parallel(n_jobs=1)]: Done   7 out of   7 | elapsed: 22.9min remaining:    0.0s\n"
          ],
          "name": "stderr"
        },
        {
          "output_type": "stream",
          "text": [
            "[CV] ....... max_depth=3, n_estimators=150, score=0.687, total= 6.4min\n",
            "[CV] max_depth=3, n_estimators=150 ...................................\n"
          ],
          "name": "stdout"
        },
        {
          "output_type": "stream",
          "text": [
            "[Parallel(n_jobs=1)]: Done   8 out of   8 | elapsed: 29.3min remaining:    0.0s\n"
          ],
          "name": "stderr"
        },
        {
          "output_type": "stream",
          "text": [
            "[CV] ....... max_depth=3, n_estimators=150, score=0.583, total= 1.7min\n",
            "[CV] max_depth=5, n_estimators=50 ....................................\n"
          ],
          "name": "stdout"
        },
        {
          "output_type": "stream",
          "text": [
            "[Parallel(n_jobs=1)]: Done   9 out of   9 | elapsed: 31.0min remaining:    0.0s\n"
          ],
          "name": "stderr"
        },
        {
          "output_type": "stream",
          "text": [
            "[CV] ........ max_depth=5, n_estimators=50, score=0.675, total= 8.6min\n",
            "[CV] max_depth=5, n_estimators=50 ....................................\n",
            "[CV] ........ max_depth=5, n_estimators=50, score=0.622, total=  42.0s\n",
            "[CV] max_depth=5, n_estimators=50 ....................................\n",
            "[CV] ........ max_depth=5, n_estimators=50, score=0.615, total=  41.9s\n",
            "[CV] max_depth=5, n_estimators=100 ...................................\n",
            "[CV] ....... max_depth=5, n_estimators=100, score=0.678, total=12.2min\n",
            "[CV] max_depth=5, n_estimators=100 ...................................\n",
            "[CV] ....... max_depth=5, n_estimators=100, score=0.622, total=  43.6s\n",
            "[CV] max_depth=5, n_estimators=100 ...................................\n",
            "[CV] ....... max_depth=5, n_estimators=100, score=0.615, total=  43.2s\n",
            "[CV] max_depth=5, n_estimators=150 ...................................\n",
            "[CV] ....... max_depth=5, n_estimators=150, score=0.678, total=12.9min\n",
            "[CV] max_depth=5, n_estimators=150 ...................................\n",
            "[CV] ....... max_depth=5, n_estimators=150, score=0.622, total=  45.7s\n",
            "[CV] max_depth=5, n_estimators=150 ...................................\n",
            "[CV] ....... max_depth=5, n_estimators=150, score=0.615, total=  45.2s\n",
            "[CV] max_depth=7, n_estimators=50 ....................................\n",
            "[CV] ........ max_depth=7, n_estimators=50, score=0.644, total= 3.2min\n",
            "[CV] max_depth=7, n_estimators=50 ....................................\n",
            "[CV] ........ max_depth=7, n_estimators=50, score=0.654, total= 3.5min\n",
            "[CV] max_depth=7, n_estimators=50 ....................................\n",
            "[CV] ........ max_depth=7, n_estimators=50, score=0.619, total= 1.2min\n",
            "[CV] max_depth=7, n_estimators=100 ...................................\n",
            "[CV] ....... max_depth=7, n_estimators=100, score=0.644, total= 3.2min\n",
            "[CV] max_depth=7, n_estimators=100 ...................................\n",
            "[CV] ....... max_depth=7, n_estimators=100, score=0.654, total= 3.5min\n",
            "[CV] max_depth=7, n_estimators=100 ...................................\n",
            "[CV] ....... max_depth=7, n_estimators=100, score=0.619, total= 1.2min\n",
            "[CV] max_depth=7, n_estimators=150 ...................................\n",
            "[CV] ....... max_depth=7, n_estimators=150, score=0.644, total= 3.2min\n",
            "[CV] max_depth=7, n_estimators=150 ...................................\n",
            "[CV] ....... max_depth=7, n_estimators=150, score=0.654, total= 3.5min\n",
            "[CV] max_depth=7, n_estimators=150 ...................................\n",
            "[CV] ....... max_depth=7, n_estimators=150, score=0.619, total= 1.2min\n",
            "[CV] max_depth=9, n_estimators=50 ....................................\n",
            "[CV] ........ max_depth=9, n_estimators=50, score=0.655, total=11.3min\n",
            "[CV] max_depth=9, n_estimators=50 ....................................\n",
            "[CV] ........ max_depth=9, n_estimators=50, score=0.668, total=11.3min\n",
            "[CV] max_depth=9, n_estimators=50 ....................................\n",
            "[CV] ........ max_depth=9, n_estimators=50, score=0.655, total=11.6min\n",
            "[CV] max_depth=9, n_estimators=100 ...................................\n",
            "[CV] ....... max_depth=9, n_estimators=100, score=0.655, total=11.5min\n",
            "[CV] max_depth=9, n_estimators=100 ...................................\n",
            "[CV] ....... max_depth=9, n_estimators=100, score=0.668, total=11.2min\n",
            "[CV] max_depth=9, n_estimators=100 ...................................\n",
            "[CV] ....... max_depth=9, n_estimators=100, score=0.655, total=11.0min\n",
            "[CV] max_depth=9, n_estimators=150 ...................................\n",
            "[CV] ....... max_depth=9, n_estimators=150, score=0.655, total=11.0min\n",
            "[CV] max_depth=9, n_estimators=150 ...................................\n",
            "[CV] ....... max_depth=9, n_estimators=150, score=0.668, total=10.5min\n",
            "[CV] max_depth=9, n_estimators=150 ...................................\n",
            "[CV] ....... max_depth=9, n_estimators=150, score=0.655, total=11.1min\n"
          ],
          "name": "stdout"
        },
        {
          "output_type": "stream",
          "text": [
            "[Parallel(n_jobs=1)]: Done  36 out of  36 | elapsed: 193.5min finished\n"
          ],
          "name": "stderr"
        },
        {
          "output_type": "execute_result",
          "data": {
            "text/plain": [
              "GridSearchCV(cv=3, error_score=nan,\n",
              "             estimator=GradientBoostingClassifier(ccp_alpha=0.0,\n",
              "                                                  criterion='friedman_mse',\n",
              "                                                  init=None, learning_rate=0.1,\n",
              "                                                  loss='deviance', max_depth=3,\n",
              "                                                  max_features=None,\n",
              "                                                  max_leaf_nodes=None,\n",
              "                                                  min_impurity_decrease=0.0,\n",
              "                                                  min_impurity_split=None,\n",
              "                                                  min_samples_leaf=1,\n",
              "                                                  min_samples_split=2,\n",
              "                                                  min_weight_fraction_leaf=0.0,\n",
              "                                                  n_estimators=100,\n",
              "                                                  n_iter_no_change=3,\n",
              "                                                  presort='deprecated',\n",
              "                                                  random_state=0, subsample=1.0,\n",
              "                                                  tol=0.0001,\n",
              "                                                  validation_fraction=0.1,\n",
              "                                                  verbose=0, warm_start=False),\n",
              "             iid='deprecated', n_jobs=None,\n",
              "             param_grid={'max_depth': [3, 5, 7, 9],\n",
              "                         'n_estimators': [50, 100, 150]},\n",
              "             pre_dispatch='2*n_jobs', refit=True, return_train_score=False,\n",
              "             scoring='accuracy', verbose=10)"
            ]
          },
          "metadata": {
            "tags": []
          },
          "execution_count": 41
        }
      ]
    },
    {
      "cell_type": "code",
      "metadata": {
        "id": "Smu3X3xI00c7",
        "outputId": "692dd6f8-26f9-4a6e-fcbb-da6dd8094628",
        "colab": {
          "base_uri": "https://localhost:8080/",
          "height": 238
        }
      },
      "source": [
        "results = cv.cv_results_\n",
        "params = results['params']\n",
        "mean = results['mean_test_score']\n",
        "std = results['std_test_score']\n",
        "rank = results['rank_test_score']\n",
        "\n",
        "print(\"crit.\\tdepth\\t| mean\\tstd\\trank\")\n",
        "for p, m, s, r in zip(params, mean, std, rank):\n",
        "    print(f\"{p['n_estimators']}\\t{p['max_depth']}\\t| {m:0.2f}\\t{s:0.2f}\\t{r}\")"
      ],
      "execution_count": null,
      "outputs": [
        {
          "output_type": "stream",
          "text": [
            "crit.\tdepth\t| mean\tstd\trank\n",
            "50\t3\t| 0.63\t0.04\t10\n",
            "100\t3\t| 0.63\t0.04\t11\n",
            "150\t3\t| 0.63\t0.04\t11\n",
            "50\t5\t| 0.64\t0.03\t9\n",
            "100\t5\t| 0.64\t0.03\t7\n",
            "150\t5\t| 0.64\t0.03\t7\n",
            "50\t7\t| 0.64\t0.01\t4\n",
            "100\t7\t| 0.64\t0.01\t4\n",
            "150\t7\t| 0.64\t0.01\t4\n",
            "50\t9\t| 0.66\t0.01\t1\n",
            "100\t9\t| 0.66\t0.01\t1\n",
            "150\t9\t| 0.66\t0.01\t1\n"
          ],
          "name": "stdout"
        }
      ]
    },
    {
      "cell_type": "code",
      "metadata": {
        "id": "6ZksLFMv00UI",
        "outputId": "7c367820-4504-4e97-d2eb-52d2f2af198f",
        "colab": {
          "base_uri": "https://localhost:8080/",
          "height": 34
        }
      },
      "source": [
        "print(\"Best: %f using %s\" % (cv.best_score_, cv.best_params_))"
      ],
      "execution_count": null,
      "outputs": [
        {
          "output_type": "stream",
          "text": [
            "Best: 0.659292 using {'max_depth': 9, 'n_estimators': 50}\n"
          ],
          "name": "stdout"
        }
      ]
    },
    {
      "cell_type": "code",
      "metadata": {
        "id": "iBB8rCXe00JN"
      },
      "source": [
        "best_model = cv.best_estimator_"
      ],
      "execution_count": null,
      "outputs": []
    },
    {
      "cell_type": "code",
      "metadata": {
        "id": "qaWDdMWe0zop"
      },
      "source": [
        "results = cv.cv_results_\n",
        "df = pd.DataFrame(results)"
      ],
      "execution_count": null,
      "outputs": []
    },
    {
      "cell_type": "code",
      "metadata": {
        "id": "8bhc4ReOURAm",
        "outputId": "f2d27656-2c52-4c70-99a9-79ee146f1d6e",
        "colab": {
          "base_uri": "https://localhost:8080/",
          "height": 1000
        }
      },
      "source": [
        "df"
      ],
      "execution_count": null,
      "outputs": [
        {
          "output_type": "execute_result",
          "data": {
            "text/html": [
              "<div>\n",
              "<style scoped>\n",
              "    .dataframe tbody tr th:only-of-type {\n",
              "        vertical-align: middle;\n",
              "    }\n",
              "\n",
              "    .dataframe tbody tr th {\n",
              "        vertical-align: top;\n",
              "    }\n",
              "\n",
              "    .dataframe thead th {\n",
              "        text-align: right;\n",
              "    }\n",
              "</style>\n",
              "<table border=\"1\" class=\"dataframe\">\n",
              "  <thead>\n",
              "    <tr style=\"text-align: right;\">\n",
              "      <th></th>\n",
              "      <th>mean_fit_time</th>\n",
              "      <th>std_fit_time</th>\n",
              "      <th>mean_score_time</th>\n",
              "      <th>std_score_time</th>\n",
              "      <th>param_max_depth</th>\n",
              "      <th>param_n_estimators</th>\n",
              "      <th>params</th>\n",
              "      <th>split0_test_score</th>\n",
              "      <th>split1_test_score</th>\n",
              "      <th>split2_test_score</th>\n",
              "      <th>mean_test_score</th>\n",
              "      <th>std_test_score</th>\n",
              "      <th>rank_test_score</th>\n",
              "    </tr>\n",
              "  </thead>\n",
              "  <tbody>\n",
              "    <tr>\n",
              "      <th>0</th>\n",
              "      <td>200.440149</td>\n",
              "      <td>113.372391</td>\n",
              "      <td>0.365025</td>\n",
              "      <td>0.169698</td>\n",
              "      <td>3</td>\n",
              "      <td>50</td>\n",
              "      <td>{'max_depth': 3, 'n_estimators': 50}</td>\n",
              "      <td>0.635102</td>\n",
              "      <td>0.686701</td>\n",
              "      <td>0.583120</td>\n",
              "      <td>0.634974</td>\n",
              "      <td>0.042287</td>\n",
              "      <td>10</td>\n",
              "    </tr>\n",
              "    <tr>\n",
              "      <th>1</th>\n",
              "      <td>212.572239</td>\n",
              "      <td>127.742671</td>\n",
              "      <td>0.373597</td>\n",
              "      <td>0.184882</td>\n",
              "      <td>3</td>\n",
              "      <td>100</td>\n",
              "      <td>{'max_depth': 3, 'n_estimators': 100}</td>\n",
              "      <td>0.635102</td>\n",
              "      <td>0.686573</td>\n",
              "      <td>0.583120</td>\n",
              "      <td>0.634932</td>\n",
              "      <td>0.042235</td>\n",
              "      <td>11</td>\n",
              "    </tr>\n",
              "    <tr>\n",
              "      <th>2</th>\n",
              "      <td>205.932092</td>\n",
              "      <td>127.450026</td>\n",
              "      <td>0.376275</td>\n",
              "      <td>0.195169</td>\n",
              "      <td>3</td>\n",
              "      <td>150</td>\n",
              "      <td>{'max_depth': 3, 'n_estimators': 150}</td>\n",
              "      <td>0.635102</td>\n",
              "      <td>0.686573</td>\n",
              "      <td>0.583120</td>\n",
              "      <td>0.634932</td>\n",
              "      <td>0.042235</td>\n",
              "      <td>11</td>\n",
              "    </tr>\n",
              "    <tr>\n",
              "      <th>3</th>\n",
              "      <td>198.923079</td>\n",
              "      <td>222.172762</td>\n",
              "      <td>0.337562</td>\n",
              "      <td>0.304037</td>\n",
              "      <td>5</td>\n",
              "      <td>50</td>\n",
              "      <td>{'max_depth': 5, 'n_estimators': 50}</td>\n",
              "      <td>0.674744</td>\n",
              "      <td>0.621803</td>\n",
              "      <td>0.614770</td>\n",
              "      <td>0.637106</td>\n",
              "      <td>0.026769</td>\n",
              "      <td>9</td>\n",
              "    </tr>\n",
              "    <tr>\n",
              "      <th>4</th>\n",
              "      <td>272.857252</td>\n",
              "      <td>324.670014</td>\n",
              "      <td>0.454895</td>\n",
              "      <td>0.453435</td>\n",
              "      <td>5</td>\n",
              "      <td>100</td>\n",
              "      <td>{'max_depth': 5, 'n_estimators': 100}</td>\n",
              "      <td>0.678325</td>\n",
              "      <td>0.621803</td>\n",
              "      <td>0.614770</td>\n",
              "      <td>0.638299</td>\n",
              "      <td>0.028448</td>\n",
              "      <td>7</td>\n",
              "    </tr>\n",
              "    <tr>\n",
              "      <th>5</th>\n",
              "      <td>287.274466</td>\n",
              "      <td>342.182036</td>\n",
              "      <td>0.435086</td>\n",
              "      <td>0.440796</td>\n",
              "      <td>5</td>\n",
              "      <td>150</td>\n",
              "      <td>{'max_depth': 5, 'n_estimators': 150}</td>\n",
              "      <td>0.678325</td>\n",
              "      <td>0.621803</td>\n",
              "      <td>0.614770</td>\n",
              "      <td>0.638299</td>\n",
              "      <td>0.028448</td>\n",
              "      <td>7</td>\n",
              "    </tr>\n",
              "    <tr>\n",
              "      <th>6</th>\n",
              "      <td>158.646581</td>\n",
              "      <td>60.728619</td>\n",
              "      <td>0.277464</td>\n",
              "      <td>0.081280</td>\n",
              "      <td>7</td>\n",
              "      <td>50</td>\n",
              "      <td>{'max_depth': 7, 'n_estimators': 50}</td>\n",
              "      <td>0.643606</td>\n",
              "      <td>0.654092</td>\n",
              "      <td>0.619054</td>\n",
              "      <td>0.638917</td>\n",
              "      <td>0.014684</td>\n",
              "      <td>4</td>\n",
              "    </tr>\n",
              "    <tr>\n",
              "      <th>7</th>\n",
              "      <td>159.016951</td>\n",
              "      <td>61.504801</td>\n",
              "      <td>0.279892</td>\n",
              "      <td>0.078600</td>\n",
              "      <td>7</td>\n",
              "      <td>100</td>\n",
              "      <td>{'max_depth': 7, 'n_estimators': 100}</td>\n",
              "      <td>0.643606</td>\n",
              "      <td>0.654092</td>\n",
              "      <td>0.619054</td>\n",
              "      <td>0.638917</td>\n",
              "      <td>0.014684</td>\n",
              "      <td>4</td>\n",
              "    </tr>\n",
              "    <tr>\n",
              "      <th>8</th>\n",
              "      <td>159.132187</td>\n",
              "      <td>61.039870</td>\n",
              "      <td>0.284069</td>\n",
              "      <td>0.081616</td>\n",
              "      <td>7</td>\n",
              "      <td>150</td>\n",
              "      <td>{'max_depth': 7, 'n_estimators': 150}</td>\n",
              "      <td>0.643606</td>\n",
              "      <td>0.654092</td>\n",
              "      <td>0.619054</td>\n",
              "      <td>0.638917</td>\n",
              "      <td>0.014684</td>\n",
              "      <td>4</td>\n",
              "    </tr>\n",
              "    <tr>\n",
              "      <th>9</th>\n",
              "      <td>683.794150</td>\n",
              "      <td>9.555360</td>\n",
              "      <td>1.059517</td>\n",
              "      <td>0.016477</td>\n",
              "      <td>9</td>\n",
              "      <td>50</td>\n",
              "      <td>{'max_depth': 9, 'n_estimators': 50}</td>\n",
              "      <td>0.655435</td>\n",
              "      <td>0.667711</td>\n",
              "      <td>0.654731</td>\n",
              "      <td>0.659292</td>\n",
              "      <td>0.005960</td>\n",
              "      <td>1</td>\n",
              "    </tr>\n",
              "    <tr>\n",
              "      <th>10</th>\n",
              "      <td>673.744373</td>\n",
              "      <td>10.569104</td>\n",
              "      <td>1.068870</td>\n",
              "      <td>0.019311</td>\n",
              "      <td>9</td>\n",
              "      <td>100</td>\n",
              "      <td>{'max_depth': 9, 'n_estimators': 100}</td>\n",
              "      <td>0.655435</td>\n",
              "      <td>0.667711</td>\n",
              "      <td>0.654731</td>\n",
              "      <td>0.659292</td>\n",
              "      <td>0.005960</td>\n",
              "      <td>1</td>\n",
              "    </tr>\n",
              "    <tr>\n",
              "      <th>11</th>\n",
              "      <td>651.475248</td>\n",
              "      <td>14.996124</td>\n",
              "      <td>1.058817</td>\n",
              "      <td>0.010044</td>\n",
              "      <td>9</td>\n",
              "      <td>150</td>\n",
              "      <td>{'max_depth': 9, 'n_estimators': 150}</td>\n",
              "      <td>0.655435</td>\n",
              "      <td>0.667711</td>\n",
              "      <td>0.654731</td>\n",
              "      <td>0.659292</td>\n",
              "      <td>0.005960</td>\n",
              "      <td>1</td>\n",
              "    </tr>\n",
              "  </tbody>\n",
              "</table>\n",
              "</div>"
            ],
            "text/plain": [
              "    mean_fit_time  std_fit_time  ...  std_test_score  rank_test_score\n",
              "0      200.440149    113.372391  ...        0.042287               10\n",
              "1      212.572239    127.742671  ...        0.042235               11\n",
              "2      205.932092    127.450026  ...        0.042235               11\n",
              "3      198.923079    222.172762  ...        0.026769                9\n",
              "4      272.857252    324.670014  ...        0.028448                7\n",
              "5      287.274466    342.182036  ...        0.028448                7\n",
              "6      158.646581     60.728619  ...        0.014684                4\n",
              "7      159.016951     61.504801  ...        0.014684                4\n",
              "8      159.132187     61.039870  ...        0.014684                4\n",
              "9      683.794150      9.555360  ...        0.005960                1\n",
              "10     673.744373     10.569104  ...        0.005960                1\n",
              "11     651.475248     14.996124  ...        0.005960                1\n",
              "\n",
              "[12 rows x 13 columns]"
            ]
          },
          "metadata": {
            "tags": []
          },
          "execution_count": 46
        }
      ]
    },
    {
      "cell_type": "code",
      "metadata": {
        "id": "bQ9DMbzdgC2w",
        "outputId": "7b0422d9-c05f-4be0-dbf0-d4de04667694",
        "colab": {
          "base_uri": "https://localhost:8080/",
          "height": 187
        }
      },
      "source": [
        "# se desconecto colab, instaciamos manualmente el mejor modelo:\n",
        "\n",
        "from sklearn.ensemble import GradientBoostingClassifier\n",
        "\n",
        "X_train, X_test, y_train, y_test = train_test_split(X, y, test_size=0.3, random_state=0, shuffle=False)\n",
        "\n",
        "modelGBC = GradientBoostingClassifier(random_state=0, learning_rate=0.1, n_iter_no_change=3, max_depth=9, n_estimators=50)\n",
        "modelGBC.fit(X_train, y_train)"
      ],
      "execution_count": null,
      "outputs": [
        {
          "output_type": "execute_result",
          "data": {
            "text/plain": [
              "GradientBoostingClassifier(ccp_alpha=0.0, criterion='friedman_mse', init=None,\n",
              "                           learning_rate=0.1, loss='deviance', max_depth=9,\n",
              "                           max_features=None, max_leaf_nodes=None,\n",
              "                           min_impurity_decrease=0.0, min_impurity_split=None,\n",
              "                           min_samples_leaf=1, min_samples_split=2,\n",
              "                           min_weight_fraction_leaf=0.0, n_estimators=50,\n",
              "                           n_iter_no_change=3, presort='deprecated',\n",
              "                           random_state=0, subsample=1.0, tol=0.0001,\n",
              "                           validation_fraction=0.1, verbose=0,\n",
              "                           warm_start=False)"
            ]
          },
          "metadata": {
            "tags": []
          },
          "execution_count": 27
        }
      ]
    },
    {
      "cell_type": "code",
      "metadata": {
        "id": "irCCwNSugV4A",
        "outputId": "7336a27e-c4c0-43c2-81d4-4ad9ffa77a7f",
        "colab": {
          "base_uri": "https://localhost:8080/",
          "height": 34
        }
      },
      "source": [
        "# Realizamos las predicciones\n",
        "y_pred_GBC = modelGBC.predict(X_train)\n",
        "accuracy_score(y_train, y_pred_GBC)"
      ],
      "execution_count": null,
      "outputs": [
        {
          "output_type": "execute_result",
          "data": {
            "text/plain": [
              "0.9597612958226769"
            ]
          },
          "metadata": {
            "tags": []
          },
          "execution_count": 28
        }
      ]
    },
    {
      "cell_type": "code",
      "metadata": {
        "id": "Xplym7hQwIcT"
      },
      "source": [
        "# Sobre ajuste en train con max_depth = 9"
      ],
      "execution_count": null,
      "outputs": []
    },
    {
      "cell_type": "code",
      "metadata": {
        "id": "7X4gNdi3hSkF",
        "outputId": "6a796824-fbdc-4661-ae23-2747c8e2f5ec",
        "colab": {
          "base_uri": "https://localhost:8080/",
          "height": 34
        }
      },
      "source": [
        "y_pred_test_GBC = modelGBC.predict(X_test)\n",
        "accuracy_score(y_test, y_pred_test_GBC)"
      ],
      "execution_count": null,
      "outputs": [
        {
          "output_type": "execute_result",
          "data": {
            "text/plain": [
              "0.6756676115172311"
            ]
          },
          "metadata": {
            "tags": []
          },
          "execution_count": 30
        }
      ]
    },
    {
      "cell_type": "code",
      "metadata": {
        "id": "l3Bz1ydtwZij",
        "outputId": "73cd00a1-1880-446f-a4a0-7be650e13b64",
        "colab": {
          "base_uri": "https://localhost:8080/",
          "height": 187
        }
      },
      "source": [
        "X_train, X_test, y_train, y_test = train_test_split(X, y, test_size=0.3, random_state=0, shuffle=False)\n",
        "\n",
        "modelGBC = GradientBoostingClassifier(random_state=0, learning_rate=0.1, n_iter_no_change=3, max_depth=7, n_estimators=50)\n",
        "modelGBC.fit(X_train, y_train)"
      ],
      "execution_count": null,
      "outputs": [
        {
          "output_type": "execute_result",
          "data": {
            "text/plain": [
              "GradientBoostingClassifier(ccp_alpha=0.0, criterion='friedman_mse', init=None,\n",
              "                           learning_rate=0.1, loss='deviance', max_depth=7,\n",
              "                           max_features=None, max_leaf_nodes=None,\n",
              "                           min_impurity_decrease=0.0, min_impurity_split=None,\n",
              "                           min_samples_leaf=1, min_samples_split=2,\n",
              "                           min_weight_fraction_leaf=0.0, n_estimators=50,\n",
              "                           n_iter_no_change=3, presort='deprecated',\n",
              "                           random_state=0, subsample=1.0, tol=0.0001,\n",
              "                           validation_fraction=0.1, verbose=0,\n",
              "                           warm_start=False)"
            ]
          },
          "metadata": {
            "tags": []
          },
          "execution_count": 31
        }
      ]
    },
    {
      "cell_type": "code",
      "metadata": {
        "id": "w-TqaTTpwjUT",
        "outputId": "d4b9e11e-35ca-4c48-848b-45df7a23b97e",
        "colab": {
          "base_uri": "https://localhost:8080/",
          "height": 34
        }
      },
      "source": [
        "# Realizamos las predicciones\n",
        "y_pred_GBC = modelGBC.predict(X_train)\n",
        "accuracy_score(y_train, y_pred_GBC)"
      ],
      "execution_count": null,
      "outputs": [
        {
          "output_type": "execute_result",
          "data": {
            "text/plain": [
              "0.8688618925831202"
            ]
          },
          "metadata": {
            "tags": []
          },
          "execution_count": 32
        }
      ]
    },
    {
      "cell_type": "code",
      "metadata": {
        "id": "31eyd_8uwj0R",
        "outputId": "63ed61e6-4a4e-402e-e04a-1e3edf1f1651",
        "colab": {
          "base_uri": "https://localhost:8080/",
          "height": 34
        }
      },
      "source": [
        "y_pred_test_GBC = modelGBC.predict(X_test)\n",
        "accuracy_score(y_test, y_pred_test_GBC)"
      ],
      "execution_count": null,
      "outputs": [
        {
          "output_type": "execute_result",
          "data": {
            "text/plain": [
              "0.6670644984832662"
            ]
          },
          "metadata": {
            "tags": []
          },
          "execution_count": 33
        }
      ]
    },
    {
      "cell_type": "code",
      "metadata": {
        "id": "WvS92i0Wy0Lk",
        "outputId": "27464043-e053-4f48-f054-4e787f652e01",
        "colab": {
          "base_uri": "https://localhost:8080/",
          "height": 187
        }
      },
      "source": [
        "#generalizamos un poco mas\n",
        "\n",
        "X_train, X_test, y_train, y_test = train_test_split(X, y, test_size=0.3, random_state=0, shuffle=False)\n",
        "\n",
        "modelGBC = GradientBoostingClassifier(random_state=0, learning_rate=0.1, n_iter_no_change=3, max_depth=5, n_estimators=50)\n",
        "modelGBC.fit(X_train, y_train)"
      ],
      "execution_count": null,
      "outputs": [
        {
          "output_type": "execute_result",
          "data": {
            "text/plain": [
              "GradientBoostingClassifier(ccp_alpha=0.0, criterion='friedman_mse', init=None,\n",
              "                           learning_rate=0.1, loss='deviance', max_depth=5,\n",
              "                           max_features=None, max_leaf_nodes=None,\n",
              "                           min_impurity_decrease=0.0, min_impurity_split=None,\n",
              "                           min_samples_leaf=1, min_samples_split=2,\n",
              "                           min_weight_fraction_leaf=0.0, n_estimators=50,\n",
              "                           n_iter_no_change=3, presort='deprecated',\n",
              "                           random_state=0, subsample=1.0, tol=0.0001,\n",
              "                           validation_fraction=0.1, verbose=0,\n",
              "                           warm_start=False)"
            ]
          },
          "metadata": {
            "tags": []
          },
          "execution_count": 34
        }
      ]
    },
    {
      "cell_type": "code",
      "metadata": {
        "id": "0MAEj1Sey6Gv",
        "outputId": "70367ef8-88eb-4ec9-a00b-9f5ec550475f",
        "colab": {
          "base_uri": "https://localhost:8080/",
          "height": 34
        }
      },
      "source": [
        "# Realizamos las predicciones\n",
        "y_pred_GBC = modelGBC.predict(X_train)\n",
        "accuracy_score(y_train, y_pred_GBC)"
      ],
      "execution_count": null,
      "outputs": [
        {
          "output_type": "execute_result",
          "data": {
            "text/plain": [
              "0.6832054560954817"
            ]
          },
          "metadata": {
            "tags": []
          },
          "execution_count": 35
        }
      ]
    },
    {
      "cell_type": "code",
      "metadata": {
        "id": "Jh0jTGIZy8B_",
        "outputId": "a32dc44e-5347-4073-f753-0e68d0f1ca1a",
        "colab": {
          "base_uri": "https://localhost:8080/",
          "height": 34
        }
      },
      "source": [
        "y_pred_test_GBC = modelGBC.predict(X_test)\n",
        "accuracy_score(y_test, y_pred_test_GBC)"
      ],
      "execution_count": null,
      "outputs": [
        {
          "output_type": "execute_result",
          "data": {
            "text/plain": [
              "0.628027251479437"
            ]
          },
          "metadata": {
            "tags": []
          },
          "execution_count": 36
        }
      ]
    }
  ]
}